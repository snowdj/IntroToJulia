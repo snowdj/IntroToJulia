{
 "cells": [
  {
   "cell_type": "markdown",
   "metadata": {},
   "source": [
    "## Nonlinear Solve Answers"
   ]
  },
  {
   "cell_type": "markdown",
   "metadata": {},
   "source": [
    "### Solution to Problem 1"
   ]
  },
  {
   "cell_type": "code",
   "execution_count": 3,
   "metadata": {
    "collapsed": true
   },
   "outputs": [
    {
     "data": {
      "text/plain": [
       "9.579933542259600850706664022606528199400333915466167486112544651727603280614496"
      ]
     },
     "execution_count": 3,
     "metadata": {},
     "output_type": "execute_result"
    }
   ],
   "source": [
    "using Roots\n",
    "f(x) = 10 - x + exp(1)*sin(x)\n",
    "fzero(f,BigFloat(2.0))"
   ]
  },
  {
   "cell_type": "markdown",
   "metadata": {},
   "source": [
    "### Solution to Problem 2"
   ]
  },
  {
   "cell_type": "code",
   "execution_count": 5,
   "metadata": {
    "collapsed": true
   },
   "outputs": [
    {
     "data": {
      "text/plain": [
       "3-element Array{Float64,1}:\n",
       " 1.0000000021270776\n",
       " 2.000000001120045 \n",
       " 2.9999999994843582"
      ]
     },
     "execution_count": 5,
     "metadata": {},
     "output_type": "execute_result"
    }
   ],
   "source": [
    "f! = function (dx,x)\n",
    "  dx[1] = x[1]   + x[2]   + x[3]^2 -12\n",
    "  dx[2] = x[1]^2 - x[2]   + x[3]   - 2\n",
    "  dx[3] = 2x[1]  - x[2]^2 + x[3]   - 1\n",
    "end\n",
    "using NLsolve\n",
    "res = nlsolve(f!,[1.0;1.0;1.0])\n",
    "res.zero\n",
    "res = nlsolve(f!,[1.0;1.0;1.0],autodiff=true)\n",
    "res.zero"
   ]
  }
 ],
 "metadata": {
  "anaconda-cloud": {},
  "kernelspec": {
   "display_name": "Julia 1.0.0",
   "language": "julia",
   "name": "julia-1.0"
  },
  "language_info": {
   "file_extension": ".jl",
   "mimetype": "application/julia",
   "name": "julia",
   "version": "1.0.0"
  }
 },
 "nbformat": 4,
 "nbformat_minor": 2
}
