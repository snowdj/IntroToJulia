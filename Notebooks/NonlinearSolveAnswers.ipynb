{
 "cells": [
  {
   "cell_type": "markdown",
   "metadata": {},
   "source": [
    "## Nonlinear Solve Answers"
   ]
  },
  {
   "cell_type": "markdown",
   "metadata": {},
   "source": [
    "### Solution to Problem 1"
   ]
  },
  {
   "cell_type": "code",
   "execution_count": null,
   "metadata": {
    "collapsed": true
   },
   "outputs": [],
   "source": [
    "using Roots\n",
    "f(x) = 10 - x + e*sin(x)\n",
    "fzero(f,BigFloat(2.0))"
   ]
  },
  {
   "cell_type": "markdown",
   "metadata": {},
   "source": [
    "### Solution to Problem 2"
   ]
  },
  {
   "cell_type": "code",
   "execution_count": null,
   "metadata": {
    "collapsed": true
   },
   "outputs": [],
   "source": [
    "f! = function (x,dx)\n",
    "  dx[1] = x[1]   + x[2]   + x[3]^2 -12\n",
    "  dx[2] = x[1]^2 - x[2]   + x[3]   - 2\n",
    "  dx[3] = 2x[1]  - x[2]^2 + x[3]   - 1\n",
    "end\n",
    "using NLsolve\n",
    "res = nlsolve(f!,[1.0;1.0;1.0])\n",
    "res.zero\n",
    "res = nlsolve(f!,[1.0;1.0;1.0],autodiff=true)\n",
    "res.zero"
   ]
  }
 ],
 "metadata": {
  "anaconda-cloud": {},
  "kernelspec": {
   "display_name": "Julia 0.5.2",
   "language": "julia",
   "name": "julia-0.5"
  },
  "language_info": {
   "file_extension": ".jl",
   "mimetype": "application/julia",
   "name": "julia",
   "version": "0.5.2"
  }
 },
 "nbformat": 4,
 "nbformat_minor": 1
}
