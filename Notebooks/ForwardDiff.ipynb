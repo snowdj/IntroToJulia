{
 "cells": [
  {
   "cell_type": "markdown",
   "metadata": {},
   "source": [
    "## FowardDiff.jl\n",
    "\n",
    "Read the JuliaDiff website to understand the advantages (and some of the implementation) of autodifferentiation\n",
    "\n",
    "http://www.juliadiff.org/\n",
    "\n",
    "### Problem\n",
    "\n",
    "Use Optim.jl to optimize [Hosaki's Function](http://al-roomi.org/benchmarks/unconstrained/2-dimensions/58-hosaki-s-function)\n",
    "\n",
    "Improve Optim.jl's timing by providing functions for the gradient and Hessian using ForwardDiff.jl\n",
    "\n",
    "https://github.com/JuliaDiff/ForwardDiff.jl\n",
    "\n",
    "http://www.juliadiff.org/ForwardDiff.jl/"
   ]
  }
 ],
 "metadata": {
  "kernelspec": {
   "display_name": "Julia 0.5.2",
   "language": "julia",
   "name": "julia-0.5"
  },
  "language_info": {
   "file_extension": ".jl",
   "mimetype": "application/julia",
   "name": "julia",
   "version": "0.5.2"
  }
 },
 "nbformat": 4,
 "nbformat_minor": 1
}
