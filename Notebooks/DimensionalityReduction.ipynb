{
 "cells": [
  {
   "cell_type": "markdown",
   "metadata": {},
   "source": [
    "# Solutions to  Dimensionality Reduction \n",
    "\n",
    "# Dimensionality Reduction Task\n",
    "\n",
    " - Use PCA from [MultivariateStats.jl](https://github.com/JuliaStats/MultivariateStats.jl), to reduce 100 dimentional word embedding down to 3,2 and 1 dimentions. \n",
    " - Plot these using [Plots.jl](https://github.com/tbreloff/Plots.jl), coloring acording to class\n",
    " \n",
    "## Tips:\n",
    "\n",
    " - `plotly` is a good backend for 3D Plotting.\n",
    " - The command `scatter(xs[1,:], xs[2,:], xs[3,:]; hover=all_words, zcolor=classes)` \n",
    "   - will plot a 3D scatter plot\n",
    "   - coloring each point according to the numerical array `classes`\n",
    "   - and putting a tooltip on each point, according to the string array `all_words`"
   ]
  },
  {
   "cell_type": "markdown",
   "metadata": {},
   "source": [
    "# First we loadup some data\n",
    "For the the example presented here, we will use a subhset of Word Embedding, trained using [Word2Vec.jl](https://github.com/tanmaykm/Word2Vec.jl).\n",
    "These are 100 dimentional vectors, which encode syntactic and semantic information about words.\n",
    "\n",
    "You can download the datased from [here](http://ucidatascienceinitiative.github.io/IntroToJulia/Html/ForwardDiff), and load it up with [JLD](https://github.com/JuliaIO/JLD.jl) as shown below. (or just load it directly if you have cloned the notebooks)\n",
    "\n",
    "Example code for the loading,\n",
    "together with the words sorted into their original classes is below.\n"
   ]
  },
  {
   "cell_type": "code",
   "execution_count": null,
   "metadata": {
    "scrolled": true
   },
   "outputs": [],
   "source": [
    "using JLD\n",
    "countries = [\"afghanistan\",\"algeria\",\"angola\",\"arabia\",\"argentina\",\"australia\",\"bangladesh\",\"brazil\",\"britain\",\"canada\",\"china\",\"colombia\",\"congo\",\"egypt\",\"england\",\"ethiopia\",\"france\",\"germany\",\"ghana\",\"india\",\"indonesia\",\"iran\",\"iraq\",\"ireland\",\"italy\",\"japan\",\"kenya\",\"korea\",\"madagascar\",\"malaysia\",\"mexico\",\"morocco\",\"mozambique\",\"myanmar\",\"nepal\",\"nigeria\",\"pakistan\",\"peru\",\"philippines\",\"poland\",\"russia\",\"south\",\"spain\",\"sudan\",\"tanzania\",\"thailand\",\"uganda\",\"ukraine\",\"usa\",\"uzbekistan\",\"venezuela\",\"vietnam\",\"wales\",\"yemen\"]\n",
    "usa_cities = [\"albuquerque\",\"atlanta\",\"austin\",\"baltimore\",\"boston\",\"charlotte\",\"chicago\",\"columbus\",\"dallas\",\"denver\",\"detroit\",\"francisco\",\"fresno\",\"houston\",\"indianapolis\",\"jacksonville\",\"las\",\"louisville\",\"memphis\",\"mesa\",\"milwaukee\",\"nashville\",\"omaha\",\"philadelphia\",\"phoenix\",\"portland\",\"raleigh\",\"sacramento\",\"san\",\"seattle\",\"tucson\",\"vegas\",\"washington\"]\n",
    "world_capitals = [\"accra\",\"algiers\",\"amman\",\"ankara\",\"antananarivo\",\"athens\",\"baghdad\",\"baku\",\"bangkok\",\"beijing\",\"beirut\",\"berlin\",\"bogotá\",\"brasília\",\"bucharest\",\"budapest\",\"cairo\",\"caracas\",\"damascus\",\"dhaka\",\"hanoi\",\"havana\",\"jakarta\",\"kabul\",\"kampala\",\"khartoum\",\"kinshasa\",\"kyiv\",\"lima\",\"london\",\"luanda\",\"madrid\",\"manila\",\"minsk\",\"moscow\",\"nairobi\",\"paris\",\"pretoria\",\"pyongyang\",\"quito\",\"rabat\",\"riyadh\",\"rome\",\"santiago\",\"seoul\",\"singapore\",\"stockholm\",\"taipei\",\"tashkent\",\"tehran\",\"tokyo\",\"vienna\",\"warsaw\",\"yaoundé\"]\n",
    "animals = [\"alpaca\",\"camel\",\"cattle\",\"dog\",\"dove\",\"duck\",\"ferret\",\"goldfish\",\"goose\",\"guineafowl\",\"llama\",\"mouse\",\"pigeon\",\"yak\"]\n",
    "sports = [\"archery\",\"badminton\",\"basketball\",\"boxing\",\"cycling\",\"diving\",\"equestrian\",\"fencing\",\"field\",\"football\",\"golf\",\"gymnastics\",\"handball\",\"hockey\",\"judo\",\"kayak\",\"pentathlon\",\"polo\",\"rowing\",\"rugby\",\"sailing\",\"shooting\",\"soccer\",\"swimming\",\"taekwondo\",\"tennis\",\"triathlon\",\"volleyball\",\"weightlifting\",\"wrestling\"]\n",
    "\n",
    "\n",
    "words_by_class = [countries, usa_cities, world_capitals, animals, sports]\n",
    "all_words = vcat(words_by_class...)\n",
    "classes = vcat(((1:5) .* ones.(length.(words_by_class)))...);\n",
    "embeddings = load(\"../assets/ClusteringAndDimentionalityReduction.jld\", \"embeddings\")"
   ]
  },
  {
   "cell_type": "markdown",
   "metadata": {},
   "source": [
    "# Extension: T-SNE\n",
    "\n",
    " - Use [TSne.jl](https://github.com/lejon/TSne.jl), to perform similar dimentionality reduction, and to produce plots.\n",
    "\n",
    "T-SNE is another popluar DR method.  \n",
    "It is mostly maintained though.\n",
    "Be warned: it is sideways -- it is row major, so tanspose the inputs and outputs\n",
    "\n",
    "You may have to play with the perplexity to get it to work well.\n",
    "\n",
    "If you look at the resulting plots, you may note that countries are often paired uo with their captical city."
   ]
  }
 ],
 "metadata": {
  "anaconda-cloud": {},
  "kernelspec": {
   "display_name": "Julia 0.6.2",
   "language": "julia",
   "name": "julia-0.5"
  },
  "language_info": {
   "file_extension": ".jl",
   "mimetype": "application/julia",
   "name": "julia",
   "version": "0.5.0"
  }
 },
 "nbformat": 4,
 "nbformat_minor": 1
}
