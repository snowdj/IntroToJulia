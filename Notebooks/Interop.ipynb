{
 "cells": [
  {
   "cell_type": "markdown",
   "metadata": {},
   "source": [
    "# Interop Project\n",
    "\n",
    "Please choose a project and a form of interop that appeals to you and your background.\n",
    "\n",
    "## Project 1: Interfacing with your own scripts\n",
    "\n",
    "Choose a script from your own work. Modify it so that way it requires and input, and spits out a sensible output. Use Julia's interop functionalities to call this script and retrieve the answer.\n",
    "\n",
    "## Project 2: Wrapped Least Squares\n",
    "\n",
    "Use Julia's interop capabilities to solve the least squares problem using your language of choice and retreve the answer back to Julia.\n",
    "\n",
    "## Tools\n",
    "\n",
    "These are mature interop libraries provided by Julia:\n",
    "\n",
    "#### ccall\n",
    "\n",
    "The documentation page for `ccall` is: http://docs.julialang.org/en/release-0.4/manual/calling-c-and-fortran-code/. Since I found that slightly opaque on my first read, I wrote a tutorial for using ccall to call compile your C-code for usage with `ccall` and writing the wrapper code: http://www.stochasticlifestyle.com/using-julias-c-interface-utilize-c-libraries/\n",
    "\n",
    "##### Xeon Phi\n",
    "\n",
    "While not technically supported, note that you can use ccall to control Xeon Phi acceleration cards: http://www.stochasticlifestyle.com/interfacing-xeon-phi-via-julia/\n",
    "\n",
    "#### Cxx.jl\n",
    "\n",
    "https://github.com/Keno/Cxx.jl\n",
    "\n",
    "#### RCall\n",
    "\n",
    "https://github.com/JuliaInterop/RCall.jl\n",
    "\n",
    "https://github.com/joshday/Talks/blob/master/SLG2016_IntroToJulia/Slides.ipynb\n",
    "\n",
    "#### PyCall\n",
    "\n",
    "https://github.com/JuliaPy/PyCall.jl\n",
    "\n",
    "https://github.com/joshday/Talks/blob/master/SLG2016_IntroToJulia/Slides.ipynb\n",
    "\n",
    "#### MATLAB.jl\n",
    "\n",
    "https://github.com/JuliaInterop/MATLAB.jl\n",
    "\n",
    "#### CUDArt.jl\n",
    "\n",
    "http://www.stochasticlifestyle.com/julia-on-the-hpc-with-gpus/\n",
    "\n",
    "http://www.stochasticlifestyle.com/multiple-gpu-on-the-hpc-with-julia/"
   ]
  }
 ],
 "metadata": {
  "kernelspec": {
   "display_name": "Julia 0.5.2",
   "language": "julia",
   "name": "julia-0.5"
  },
  "language_info": {
   "file_extension": ".jl",
   "mimetype": "application/julia",
   "name": "julia",
   "version": "0.5.2"
  }
 },
 "nbformat": 4,
 "nbformat_minor": 1
}
