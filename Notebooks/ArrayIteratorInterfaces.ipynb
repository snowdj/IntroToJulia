{
 "cells": [
  {
   "cell_type": "markdown",
   "metadata": {
    "collapsed": true,
    "slideshow": {
     "slide_type": "slide"
    }
   },
   "source": [
    "## The Array and Iterator Interface\n",
    "\n",
    "Julia has a few \"informal\" interfaces. The idea is that, if you subclass a given abstract type and implement a few methods, then by multiple dispatch the type will now \"act like\" whatever you want it to act like, in any instance you would like.\n",
    "\n",
    "One example is the array interface. The methods to implement are:\n",
    "\n",
    "- `size(A)`\n",
    "- `getindex(A, i::Int)`\n",
    "- `getindex(A, I::Vararg{Int, N})`\n",
    "- `setindex!(A, v, i::Int)`\n",
    "- `setindex!(A, v, I::Vararg{Int, N})`\n",
    "\n",
    "`size(A)` returns what the size of the array is as a tuple. For example, a 3-dimensional \"array\" (remember, it can be anything, we are just saying it acts like an array!) would have `size(A)` return a tuple `(dim1,dim2,dim3)` for the sizes along each dimension. `getindex` is the function that is used by `A[i]`, and `setindex!` is the function for mutating `A` via `A[i]=`. \n",
    "\n",
    "The `Vararg{Int, N}` just means variable numbers of arguments, so for example `getindex(A,i1,i2)` is what is called by `A[i1,i2]`. More generally, using slurping you can define `getindex(A,I...)` and the function for `A[i1,i2,...,in]`, and `I` will be a tuple of `(i1,i2,...,in)`.\n",
    "\n",
    "Reference: http://docs.julialang.org/en/release-0.5/manual/interfaces/"
   ]
  },
  {
   "cell_type": "markdown",
   "metadata": {
    "slideshow": {
     "slide_type": "slide"
    }
   },
   "source": [
    "## Usage Example\n",
    "\n",
    "One usage example is in DifferentialEquations.jl. When you solve a differential equation, the solution returns a specialized solution type."
   ]
  },
  {
   "cell_type": "code",
   "execution_count": 3,
   "metadata": {
    "collapsed": false,
    "slideshow": {
     "slide_type": "slide"
    }
   },
   "outputs": [
    {
     "data": {
      "text/plain": [
       "DifferentialEquations.ODESolution, 4 timesteps, final value 1.372803219752981"
      ]
     },
     "execution_count": 3,
     "metadata": {},
     "output_type": "execute_result"
    }
   ],
   "source": [
    "using DifferentialEquations\n",
    "sol = solve(prob_ode_linear)"
   ]
  },
  {
   "cell_type": "markdown",
   "metadata": {
    "slideshow": {
     "slide_type": "fragment"
    }
   },
   "source": [
    "While there are many fields that the type could hold, such as the errors of a given analytical solution:"
   ]
  },
  {
   "cell_type": "code",
   "execution_count": 4,
   "metadata": {
    "collapsed": false,
    "slideshow": {
     "slide_type": "fragment"
    }
   },
   "outputs": [
    {
     "name": "stdout",
     "output_type": "stream",
     "text": [
      "DifferentialEquations.ODESolution with 4 timesteps. Analytical solution is known.\n",
      "u: 1.372803219752981\n",
      "errors: Dict(:l∞=>2.71224e-6,:final=>2.71224e-6,:l2=>1.57376e-6)\n",
      "t: [0.0,0.146343,0.643575,1.0]\n",
      "timeseries: [0.5,0.579644,0.957782,1.3728]\n",
      "timeseries_analytic: [0.5,0.579644,0.957781,1.3728]\n",
      "\n"
     ]
    }
   ],
   "source": [
    "println(sol)"
   ]
  },
  {
   "cell_type": "markdown",
   "metadata": {
    "slideshow": {
     "slide_type": "fragment"
    }
   },
   "source": [
    "An array interface is provided so that the solution \"acts\" like a traditional solution: i.e. as an array of the numerically computed values:"
   ]
  },
  {
   "cell_type": "code",
   "execution_count": 7,
   "metadata": {
    "collapsed": false,
    "slideshow": {
     "slide_type": "fragment"
    }
   },
   "outputs": [
    {
     "name": "stdout",
     "output_type": "stream",
     "text": [
      "0.6435749072667494\n"
     ]
    },
    {
     "data": {
      "text/plain": [
       "0.9577822179420759"
      ]
     },
     "execution_count": 7,
     "metadata": {},
     "output_type": "execute_result"
    }
   ],
   "source": [
    "println(sol.t[3]) # The third timestep\n",
    "sol[3] # The value at the third timestep"
   ]
  },
  {
   "cell_type": "markdown",
   "metadata": {
    "slideshow": {
     "slide_type": "fragment"
    }
   },
   "source": [
    "An entire Julia organization, JuliaArrays, is devoted to making fast, interesting, and easy to use arrays. It's an odd concept: arrays are just arrays, right? However, Julia's genericism makes it so that way this now works in any place which accepts an `AbstractVector` output, so the solution is directly usable in numerical optimization algorithms, regressions, etc."
   ]
  }
 ],
 "metadata": {
  "anaconda-cloud": {},
  "celltoolbar": "Slideshow",
  "kernelspec": {
   "display_name": "Julia 0.5.2",
   "language": "julia",
   "name": "julia-0.5"
  },
  "language_info": {
   "file_extension": ".jl",
   "mimetype": "application/julia",
   "name": "julia",
   "version": "0.5.2"
  }
 },
 "nbformat": 4,
 "nbformat_minor": 0
}
