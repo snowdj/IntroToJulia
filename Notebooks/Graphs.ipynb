{
 "cells": [
  {
   "cell_type": "markdown",
   "metadata": {},
   "source": [
    "## Graphs Problem\n",
    "\n",
    "Use [LightGraphs.jl](https://github.com/JuliaGraphs/LightGraphs.jl#usage-examples)'s Usage Example to make a function which generates random binary trees of depth N."
   ]
  }
 ],
 "metadata": {
  "anaconda-cloud": {},
  "kernelspec": {
   "display_name": "Julia 1.0.0",
   "language": "julia",
   "name": "julia-1.0"
  },
  "language_info": {
   "file_extension": ".jl",
   "mimetype": "application/julia",
   "name": "julia",
   "version": "1.0.0"
  }
 },
 "nbformat": 4,
 "nbformat_minor": 2
}
