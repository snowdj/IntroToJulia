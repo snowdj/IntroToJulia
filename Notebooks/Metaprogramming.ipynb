{
 "cells": [
  {
   "cell_type": "markdown",
   "metadata": {
    "collapsed": true,
    "slideshow": {
     "slide_type": "slide"
    }
   },
   "source": [
    "## Why Metaprogramming?\n",
    "\n",
    "- Metaprogramming is used to write code at parsing time in order to help the compiler achieve good performance\n",
    "- Metaprogramming is used to write Domain-Specific Languages (DSLs) to make easy syntax for complicated functions"
   ]
  },
  {
   "cell_type": "markdown",
   "metadata": {
    "slideshow": {
     "slide_type": "slide"
    }
   },
   "source": [
    "## Examples of Improving Performance\n",
    "\n",
    "- `@fastmath 3*5`\n",
    "- ParallelAccelerator's `@acc`\n",
    "- `@simd`\n",
    "- `@parallel`\n",
    "- `Threads.@threads`\n",
    "- Even DSLs will use symbolic mathematics to automatically simplify a problem for you!"
   ]
  },
  {
   "cell_type": "markdown",
   "metadata": {
    "slideshow": {
     "slide_type": "slide"
    }
   },
   "source": [
    "## Examples of Domain-Specific Languages:\n",
    "\n",
    "### JuliaStats\n",
    "\n",
    "`~` for Formulas was actually in in-place macro!\n",
    "\n",
    "### DifferentialEquations.jl\n",
    "\n",
    "For differential equations packages, the standard way to define a differential equation like the Lorenz equation:\n",
    "\n",
    "$$\n",
    "\\begin{align}\n",
    "x\\prime &= \\sigma (y-x)\\\\\n",
    "y\\prime &= x (\\rho - z) - y\\\\\n",
    "z\\prime &= xy - \\beta z\\\\\n",
    "\\end{align}\n",
    "$$\n",
    "\n",
    "is the following:\n"
   ]
  },
  {
   "cell_type": "code",
   "execution_count": null,
   "metadata": {
    "collapsed": true,
    "slideshow": {
     "slide_type": "fragment"
    }
   },
   "outputs": [],
   "source": [
    "f = (t,u,du) -> begin\n",
    " du[1] = 10.0(u[2]-u[1])\n",
    " du[2] = u[1]*(28.0-u[3]) - u[2]\n",
    " du[3] = u[1]*u[2] - (8/3)*u[3]\n",
    "end"
   ]
  },
  {
   "cell_type": "markdown",
   "metadata": {
    "slideshow": {
     "slide_type": "fragment"
    }
   },
   "source": [
    "However, we can define a DSL to make this easier to do:"
   ]
  },
  {
   "cell_type": "code",
   "execution_count": null,
   "metadata": {
    "collapsed": true,
    "slideshow": {
     "slide_type": "fragment"
    }
   },
   "outputs": [],
   "source": [
    "g = @ode_def begin\n",
    "  dx = σ*(y-x)\n",
    "  dy = x*(ρ-z) - y\n",
    "  dz = x*y - β*z\n",
    "end σ=>10. ρ=>28. β=>2.66"
   ]
  },
  {
   "cell_type": "markdown",
   "metadata": {
    "slideshow": {
     "slide_type": "slide"
    }
   },
   "source": [
    "### JuMP.jl\n",
    "\n",
    "JuMP has a DSL which allows you to define constrainted optimization problems without reference to the package or type of equation which is being solved. You can then swap out different optimization packages to use as the solver without care."
   ]
  },
  {
   "cell_type": "code",
   "execution_count": null,
   "metadata": {
    "collapsed": true,
    "slideshow": {
     "slide_type": "fragment"
    }
   },
   "outputs": [],
   "source": [
    "using JuMP\n",
    "\n",
    "m = Model()\n",
    "@variable(m, 0 <= x <= 2 )\n",
    "@variable(m, 0 <= y <= 30 )\n",
    "\n",
    "@objective(m, Max, 5x + 3*y )\n",
    "@constraint(m, 1x + 5y <= 3.0 )\n",
    "\n",
    "print(m)\n",
    "\n",
    "status = solve(m)\n",
    "\n",
    "println(\"Objective value: \", getobjectivevalue(m))\n",
    "println(\"x = \", getvalue(x))\n",
    "println(\"y = \", getvalue(y))"
   ]
  },
  {
   "cell_type": "markdown",
   "metadata": {
    "slideshow": {
     "slide_type": "slide"
    }
   },
   "source": [
    "## Writing Your Own Macros\n",
    "\n",
    "An easy way to write macros is the \"QuoteLater\" method:\n",
    "\n",
    "- Write a macro, make it work (in the REPL)\n",
    "- Later, quote it and interpolate in the value\n",
    "\n",
    "The Julia manual is very complete on Metaprogramming: http://docs.julialang.org/en/release-0.5/manual/metaprogramming/\n",
    "\n",
    "One fact that it misses: How to interpolate an expression as an expression (not as a value) into another expression."
   ]
  },
  {
   "cell_type": "code",
   "execution_count": null,
   "metadata": {
    "collapsed": true,
    "slideshow": {
     "slide_type": "fragment"
    }
   },
   "outputs": [],
   "source": [
    "ex_new = Meta.quot(ex)\n",
    "quote\n",
    "    still_expression = $(esc(ex_new)) \n",
    "end"
   ]
  },
  {
   "cell_type": "markdown",
   "metadata": {
    "slideshow": {
     "slide_type": "slide"
    }
   },
   "source": [
    "### Metaprogramming Project\n",
    "\n",
    "You have a way to compute least squares, how about letting it work like an `R` function? Define your own version `solve_least_squares(Y,X)` using your previous result, and define the `@~` macro so that way `solve_least_squares(Y~1+X1+X2+X4)` solves the least square problem on the data matrix `X` on its columns 1, 2, and 4.\n",
    "\n",
    "Metaprogramming is hard the first few times you do it. You might want to work in pairs!\n",
    "\n",
    "Hints:\n",
    "\n",
    "- You cannot \"get a character\" from a symbol\n",
    "- You can use `string` to change a symbol to a string\n",
    "- You can `parse` a string to a number\n",
    "- Check out the `args` field of an expression: it's an array that holds a bunch of goodies!"
   ]
  },
  {
   "cell_type": "code",
   "execution_count": null,
   "metadata": {
    "collapsed": true,
    "slideshow": {
     "slide_type": "fragment"
    }
   },
   "outputs": [],
   "source": [
    "y = rand(10)\n",
    "X = rand(10,4)\n",
    "y~1+X1+X2+X4 # Make a tuple\n",
    "solve_least_squares(y~1+X1+X2+X4) # Solve the least square problem on a tuple"
   ]
  }
 ],
 "metadata": {
  "celltoolbar": "Slideshow",
  "kernelspec": {
   "display_name": "Julia 0.5.2",
   "language": "julia",
   "name": "julia-0.5"
  },
  "language_info": {
   "file_extension": ".jl",
   "mimetype": "application/julia",
   "name": "julia",
   "version": "0.5.2"
  }
 },
 "nbformat": 4,
 "nbformat_minor": 1
}
