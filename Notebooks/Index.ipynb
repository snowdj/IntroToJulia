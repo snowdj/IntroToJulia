{
 "cells": [
  {
   "cell_type": "markdown",
   "metadata": {
    "slideshow": {
     "slide_type": "slide"
    }
   },
   "source": [
    "# A Deep Introduction to Julia for Data Science and Scientific Computing"
   ]
  },
  {
   "cell_type": "markdown",
   "metadata": {
    "slideshow": {
     "slide_type": "slide"
    }
   },
   "source": [
    "## Introduction\n",
    "\n",
    "This workshop is put together by Chris Rackauckas as part of the UC Irvine Data Science Initiative. This workshop is made to teach people who are experienced with other scripting languages the relatively new language Julia. Unlike the other Data Science Initiative workshops, this workshop assumes prior knowledge of some form of programming in a language such as Python, R, or MATLAB.\n",
    "\n",
    "We will start by introducing the basic syntax of the language, and quickly move into the details of how Julia is different from other scripting languages and how to exploit Julia's type system + multiple dispatch to be able to achieve C/Fortran-like performance while maintaining the concise syntax of a scripting language. Large parts of the package ecosystem will be explored and some information on implementation details will be highlighted in order for the participants to learn how to design Julia projects.\n",
    "\n",
    "The ideal participant is anyone who is interested in Julia. There are many groups of people interested in using Julia. One large fraction come with a strong software development background and C/Fortran knowledge, and are looking to learn Julia as a tool to create packages with enhanced productivity while not losing performance. On the other side, there are users who are interested in the growing package ecosystem of Julia and would like to add Julia to their knowledge-base. And then there's everything in between. One major goal of this workshop is to use Julia's language and syntax to bridge the gap between \"package users\" and \"package developers\" in the way that Julia has done. \n",
    "\n",
    "#### This is very problem-focused. The method is not passive: the goal is to get you using Julia!\n"
   ]
  },
  {
   "cell_type": "markdown",
   "metadata": {
    "slideshow": {
     "slide_type": "slide"
    }
   },
   "source": [
    "## Introduction to the Author\n",
    "\n",
    "Chris is a PhD student in Mathematics from the Mathematical, Computational, and Systems Biology (MCSB) Gateway program and is an active part of the Julia community. He runs the blog, http://www.stochasticlifestyle.com/, where he write tutorials on using the Julia languages covering many topics, such as high-performance and GPGPU computing, package development, and Julia tips. He is part of the JuliaMath and JuliaDiffEq communities for curating the Julia libraries for mathematics and differential equations respectively. Chris is the developer of many Julia packages, the most prominent being [DifferentialEquations.jl](https://github.com/JuliaDiffEq/DifferentialEquations.jl), a Julia library which has become a standard solver for many forms of differential equations."
   ]
  },
  {
   "cell_type": "markdown",
   "metadata": {
    "slideshow": {
     "slide_type": "slide"
    }
   },
   "source": [
    "## Notes Before We Get Started\n",
    "\n",
    "- Please install some version of IJulia/Jupyter to follow along. I also recommend working through longer problems using the Juno IDE.\n",
    "- The start of the course will be on developing general performant Julia code. After lunch it will be about the package ecosystem. This understanding of Julia will be useful even for \"Julia users\" (i.e. non package developers) to use packages effectively, but don't worry we will get to packages. \n",
    "- Please do the problems/projects at your own pace. Not everyone is expected to complete all of the material in the allotted time. **Some of the problems are supposed to be hard!** Instead, this is supposed to be a resource to introduce you to a large amount of Julia, and the material may take awhile to fully be digested. That's okay!\n",
    "- During the basic introduction, there will be information that is not included in these notebooks. That is intentional. One major hurdle for learning a language is learning how to find out more about the language. Please use the manual, chatrooms, StackExchange, etc. If these aren't working for you, ask for help.\n",
    "\n",
    "A good primer for the workshop: https://www.youtube.com/watch?v=JNvMs0j3a4E"
   ]
  },
  {
   "cell_type": "markdown",
   "metadata": {
    "slideshow": {
     "slide_type": "slide"
    }
   },
   "source": [
    "## Installation and Setup\n",
    "\n",
    "To get started, see the [Tooling, Documentation, and Community notebook](http://ucidatascienceinitiative.github.io/IntroToJulia/Html/ToolingDocumentationCommunity)."
   ]
  },
  {
   "cell_type": "markdown",
   "metadata": {
    "slideshow": {
     "slide_type": "slide"
    }
   },
   "source": [
    "## Rendered Jupyter Notebooks\n",
    "\n",
    "### Introduction\n",
    "\n",
    "- [Tooling, Documentation, and Community](http://ucidatascienceinitiative.github.io/IntroToJulia/Html/ToolingDocumentationCommunity)\n",
    "- [Juno, the Julia IDE (Debugging, Progress Bars, etc.): JunoLab](http://docs.junolab.org/latest/)\n",
    "- [A Mental Model for Julia](http://ucidatascienceinitiative.github.io/IntroToJulia/Html/JuliaMentalModel)\n",
    "- [A Very Quick Introduction to Git/Github for Julia Users](http://ucidatascienceinitiative.github.io/IntroToJulia/Html/GithubIntroduction)\n",
    "\n",
    "### Basics\n",
    "\n",
    "- [A Basic Introduction to Julia](http://ucidatascienceinitiative.github.io/IntroToJulia/Html/BasicIntroduction)\n",
    "- [Why Julia?](http://ucidatascienceinitiative.github.io/IntroToJulia/Html/WhyJulia)\n",
    "- [More Details on Arrays and Matrices - How to get Fortran Speeds in Linear Algebra](http://ucidatascienceinitiative.github.io/IntroToJulia/Html/ArraysAndMatrices)\n",
    "- [The Julia Manual](https://docs.julialang.org/en/v1.0/)\n",
    "- [The Julia Wikibook](https://en.wikibooks.org/wiki/Introducing_Julia)\n",
    "- [Noteworthy Differences from Other Languages (Julia's Manual)](https://docs.julialang.org/en/v1/manual/noteworthy-differences/)\n",
    "- [Julia Cheatsheet Reference (with MATLAB and Python)](https://cheatsheets.quantecon.org/)\n",
    "\n",
    "### General Problems\n",
    "\n",
    "- [Basic Problems](http://ucidatascienceinitiative.github.io/IntroToJulia/Html/BasicProblems)\n",
    "- [Intermediate Problems](http://ucidatascienceinitiative.github.io/IntroToJulia/Html/IntermediateProblems)\n",
    "- [Advanced Problems](http://ucidatascienceinitiative.github.io/IntroToJulia/Html/AdvancedProblems)\n",
    "- [Stock Modeling Problem](http://ucidatascienceinitiative.github.io/IntroToJulia/Html/StockProblem)\n",
    "\n",
    "### Detailed Usage: A Peek Into \"the Rabbit Hole\"\n",
    "\n",
    "- [Multiple Dispatch Designs: Duck Typing, Hierarchies and Traits](http://ucidatascienceinitiative.github.io/IntroToJulia/Html/DispatchDesigns)\n",
    "- [Metaprogramming](http://ucidatascienceinitiative.github.io/IntroToJulia/Html/Metaprogramming)\n",
    "- [Call Overloading](http://ucidatascienceinitiative.github.io/IntroToJulia/Html/CallOverloading)\n",
    "- [7 Julia Gotchas and How to Handle Them](http://www.stochasticlifestyle.com/7-julia-gotchas-handle/)\n",
    "- [Array and Iterator Interfaces](http://ucidatascienceinitiative.github.io/IntroToJulia/Html/ArrayIteratorInterfaces)\n",
    "\n",
    "### Packages to Explore (with Problems!)\n",
    "\n",
    "This section introduces you to a wide variety of packages for data science and scientific computing in Julia. Many of these pages have example problems for you to have a guided tour through the package basics.\n",
    "\n",
    "- [Overview of the Package Ecosystem](http://ucidatascienceinitiative.github.io/IntroToJulia/Html/PackageEcosystem)\n",
    "\n",
    "#### Data Science\n",
    "\n",
    "- [Clustering: Clustering.jl and Distances.jl](http://ucidatascienceinitiative.github.io/IntroToJulia/Html/Clustering)\n",
    "- [Dimensionality Reduction: MultivariateStats.jl](http://ucidatascienceinitiative.github.io/IntroToJulia/Html/DimensionalityReduction)\n",
    "- [Data Visualization: Plots.jl](http://ucidatascienceinitiative.github.io/IntroToJulia/Html/PlotsJL)\n",
    "- Bioinformatics: Bio.jl\n",
    "- Deep Learning: Flux.jl\n",
    "\n",
    "#### Scientific Computing\n",
    "\n",
    "- [Differential Equations: DifferentialEquations.jl](http://ucidatascienceinitiative.github.io/IntroToJulia/Html/DiffEq)\n",
    "- [Solving Nonlinear Equations: NLsolve.jl and Roots.jl](http://ucidatascienceinitiative.github.io/IntroToJulia/Html/NonlinearSolve)\n",
    "- [Graph Algorithms and Analysis: LightGraphs.jl](http://ucidatascienceinitiative.github.io/IntroToJulia/Html/Graphs)\n",
    "\n",
    "#### Both!\n",
    "\n",
    "- [Mathematical Programming / Optimization: JuMP and Optim.jl](http://ucidatascienceinitiative.github.io/IntroToJulia/Html/Optimization)\n",
    "- [Forward-mode Autodifferentiation (with Optimization): ForwardDiff.jl and Optim.jl](http://ucidatascienceinitiative.github.io/IntroToJulia/Html/ForwardDiff)\n",
    "\n",
    "### Extra Projects and Problems\n",
    "\n",
    "- [Using External Languages from Julia (Interop)](http://ucidatascienceinitiative.github.io/IntroToJulia/Html/Interop)\n",
    "- [Parallelism and HPC](http://ucidatascienceinitiative.github.io/IntroToJulia/Html/HPCJulia)\n",
    "- [Package Development, Documentation, and Testing](http://ucidatascienceinitiative.github.io/IntroToJulia/Html/PackageDevelopment)\n",
    "- Robust Benchmarking: [BenchmarkTools.jl](https://github.com/JuliaCI/BenchmarkTools.jl) and [ProfileView.jl](https://github.com/timholy/ProfileView.jl)\n",
    "\n",
    "### Experiments\n",
    "\n",
    "Probe around and understand the following results:\n",
    "\n",
    "- [Type-Stability Experiment](http://ucidatascienceinitiative.github.io/IntroToJulia/Html/TypeStabilityExperiment)\n",
    "- [Scoping Experiment](http://ucidatascienceinitiative.github.io/IntroToJulia/Html/ScopingExperiment)\n"
   ]
  },
  {
   "cell_type": "markdown",
   "metadata": {
    "slideshow": {
     "slide_type": "slide"
    }
   },
   "source": [
    "---------------------------\n",
    "# Problem Answers\n",
    "---------------------------\n",
    "\n",
    "#### Answers to the Problems\n",
    "- [Basic Problem Answers](http://ucidatascienceinitiative.github.io/IntroToJulia/Html/BasicProblemAnswers)\n",
    "- [Intermediate Problem Answers](http://ucidatascienceinitiative.github.io/IntroToJulia/Html/IntermediateProblemAnswers)\n",
    "- [Advanced Problem Answers](http://ucidatascienceinitiative.github.io/IntroToJulia/Html/AdvancedProblemAnswers)\n",
    "- [Answer to Stock Modeling Problem](http://ucidatascienceinitiative.github.io/IntroToJulia/Html/StockProblemAnswers)\n",
    "- [Answer to the LightGraphs Problem](http://ucidatascienceinitiative.github.io/IntroToJulia/Html/LightGraphsAnswers)\n",
    "- [Answer to the ForwardDiff Problems](http://ucidatascienceinitiative.github.io/IntroToJulia/Html/ForwardDiffAnswers)\n",
    "- [Answer to the Nonlinear Solver Problems](http://ucidatascienceinitiative.github.io/IntroToJulia/Html/NonlinearSolveAnswers)\n",
    "- [Answer to the DiffEq Problems](http://ucidatascienceinitiative.github.io/IntroToJulia/Html/DiffEqSolutions)\n",
    "- [Answer to the Optimization Problems](http://ucidatascienceinitiative.github.io/IntroToJulia/Html/OptimizationAnswers)\n",
    "- [Answer to Dimensionality Reduction Problem](http://ucidatascienceinitiative.github.io/IntroToJulia/Html/DimensionalityReductionSolutions)\n",
    "- [Answer to Clustering Problem](http://ucidatascienceinitiative.github.io/IntroToJulia/Html/ClusteringSolutions)"
   ]
  },
  {
   "cell_type": "markdown",
   "metadata": {
    "slideshow": {
     "slide_type": "slide"
    }
   },
   "source": [
    "# Slide Versions of the Pages\n",
    "\n",
    "### Introduction\n",
    "\n",
    "- [Tooling, Documentation, and Community](http://ucidatascienceinitiative.github.io/IntroToJulia/Slides/ToolingDocumentationCommunity)\n",
    "- [A Mental Model for Julia](http://ucidatascienceinitiative.github.io/IntroToJulia/Slides/JuliaMentalModel)\n",
    "- [A Very Quick Introduction to Git/Github for Julia Users](http://ucidatascienceinitiative.github.io/IntroToJulia/Slides/GithubIntroduction)\n",
    "\n",
    "### Basics\n",
    "\n",
    "- [A Basic Introduction to Julia](http://ucidatascienceinitiative.github.io/IntroToJulia/Slides/BasicIntroduction)\n",
    "- [Basic Problems](http://ucidatascienceinitiative.github.io/IntroToJulia/Slides/BasicProblems)\n",
    "- [Intermediate Problems Problems](http://ucidatascienceinitiative.github.io/IntroToJulia/Slides/BasicProblems)\n",
    "- [Why Julia?](http://ucidatascienceinitiative.github.io/IntroToJulia/Slides/WhyJulia)\n",
    "\n",
    "### Detailed Usage: A Peak Into \"the Rabbit Hole\"\n",
    "\n",
    "- [Metaprogramming](http://ucidatascienceinitiative.github.io/IntroToJulia/Slides/Metaprogramming)\n",
    "- [Call Overloading](http://ucidatascienceinitiative.github.io/IntroToJulia/Slides/CallOverloading)\n",
    "- [Array and Iterator Interfaces](http://ucidatascienceinitiative.github.io/IntroToJulia/Slides/ArrayIteratorInterfaces)\n",
    "- [More Details on Arrays and Matrices - How to get Fortran Speeds from Linear Algebra](http://ucidatascienceinitiative.github.io/IntroToJulia/Slides/ArraysAndMatrices)\n",
    "\n",
    "### Packages to Explore\n",
    "\n",
    "- [Overview of the Package Ecosystem](http://ucidatascienceinitiative.github.io/IntroToJulia/Slides/PackageEcosystem)\n",
    "- [Data Visualization: Plots.jl](http://ucidatascienceinitiative.github.io/IntroToJulia/Slides/PlotsJL)\n",
    "- [Differential Equations: DifferentialEquations.jl](http://ucidatascienceinitiative.github.io/IntroToJulia/Slides/DiffEq)\n",
    "- [Clustering: Clustering.jl and Distances.jl](http://ucidatascienceinitiative.github.io/IntroToJulia/Html/Clustering)\n",
    "- [Dimensionality Reduction: MultivariateStats.jl](http://ucidatascienceinitiative.github.io/IntroToJulia/Html/DimensionalityReduction)\n",
    "- [Mathematical Programming / Optimization: JuMP and Optim.jl](http://ucidatascienceinitiative.github.io/IntroToJulia/Slides/Optimization)\n",
    "- [Solving Nonlinear Equations: NLsolve.jl and Roots.jl](http://ucidatascienceinitiative.github.io/IntroToJulia/Slides/NonlinearSolve)\n",
    "- [Forward-mode Autodifferentiation (with Optimization): ForwardDiff.jl and Optim.jl](http://ucidatascienceinitiative.github.io/IntroToJulia/Slides/ForwardDiff)\n",
    "- [Graph Algorithms and Analysis: LightGraphs.jl](http://ucidatascienceinitiative.github.io/IntroToJulia/Slides/Graphs)\n",
    "- Bioinformatics: Bio.jl\n",
    "- Deep Learning: KNet.jl, TensorFlow.jl, MXNet.jl, and Flux.jl\n",
    "\n",
    "\n",
    "### Extra Projects and Problems\n",
    "\n",
    "- [Using External Languages from Julia (Interop)](http://ucidatascienceinitiative.github.io/IntroToJulia/Slides/Interop)\n",
    "- [Parallelism and HPC](http://ucidatascienceinitiative.github.io/IntroToJulia/Slides/HPCJulia)\n",
    "- [Work in Progress: JuliaML for Machine Learning](http://ucidatascienceinitiative.github.io/IntroToJulia/Slides/JuliaML)\n",
    "- [Package Development, Documentation, and Testing](http://ucidatascienceinitiative.github.io/IntroToJulia/Slides/PackageDevelopment)\n",
    "- Tools for Faster Code: [InplaceOps.jl](https://github.com/simonbyrne/InplaceOps.jl), [CatViews.jl](https://github.com/ahwillia/CatViews.jl), and [VML.jl](https://github.com/JuliaMath/VML.jl)\n",
    "- Robust Benchmarking: [BenchmarkTools.jl](https://github.com/JuliaCI/BenchmarkTools.jl) and [ProfileView.jl](https://github.com/timholy/ProfileView.jl)\n",
    "\n",
    "### Experiments\n",
    "\n",
    "Probe around and understand the following results:\n",
    "\n",
    "- [Type-Stability Experiment](http://ucidatascienceinitiative.github.io/IntroToJulia/Slides/TypeStabilityExperiment)\n",
    "- [Scoping Experiment](http://ucidatascienceinitiative.github.io/IntroToJulia/Slides/ScopingExperiment)"
   ]
  },
  {
   "cell_type": "markdown",
   "metadata": {
    "slideshow": {
     "slide_type": "slide"
    }
   },
   "source": [
    "## How These Were Made\n",
    "\n",
    "This entire repository is made using Jupyter notebooks using the template from the [JupyterSite](https://github.com/ChrisRackauckas/JupyterSite) repository. To contribute to these materials, see [the Github repository](https://github.com/UCIDataScienceInitiative/IntroToJulia)."
   ]
  }
 ],
 "metadata": {
  "anaconda-cloud": {},
  "celltoolbar": "Slideshow",
  "kernelspec": {
   "display_name": "Julia 1.0.0",
   "language": "julia",
   "name": "julia-1.0"
  },
  "language_info": {
   "file_extension": ".jl",
   "mimetype": "application/julia",
   "name": "julia",
   "version": "1.0.0"
  }
 },
 "nbformat": 4,
 "nbformat_minor": 2
}
