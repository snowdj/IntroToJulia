{
 "cells": [
  {
   "cell_type": "markdown",
   "metadata": {},
   "source": [
    "## JuMP\n",
    "\n",
    "\n",
    "### JuMP Problem\n",
    "\n",
    "Follow the [JuMP Quick Start Guide](https://jump.readthedocs.io/en/latest/quickstart.html). Then try installing [different solvers](https://jump.readthedocs.io/en/latest/installation.html#getting-solvers) to solve the same problem.\n",
    "\n",
    "### Optim.jl Problem\n",
    "\n",
    "See the [ForwardDiff.jl notebook](http://ucidatascienceinitiative.github.io/IntroToJulia/Html/ForwardDiff) for a problem which involves Optim.jl"
   ]
  }
 ],
 "metadata": {
  "kernelspec": {
   "display_name": "Julia 0.5.2",
   "language": "julia",
   "name": "julia-0.5"
  },
  "language_info": {
   "file_extension": ".jl",
   "mimetype": "application/julia",
   "name": "julia",
   "version": "0.5.2"
  }
 },
 "nbformat": 4,
 "nbformat_minor": 1
}
