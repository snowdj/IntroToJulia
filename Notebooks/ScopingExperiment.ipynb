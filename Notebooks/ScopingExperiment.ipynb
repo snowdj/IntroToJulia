{
 "cells": [
  {
   "cell_type": "markdown",
   "metadata": {},
   "source": [
    "# Scoping Experiment\n",
    "\n",
    "This experiment is designed to show a pecularity in Julia'd scoping. Julia uses a layered scoping where the scope of the inner function has access to the values of the outer function. For example:"
   ]
  },
  {
   "cell_type": "code",
   "execution_count": 1,
   "metadata": {
    "collapsed": false
   },
   "outputs": [
    {
     "data": {
      "text/plain": [
       "scopeTest (generic function with 1 method)"
      ]
     },
     "execution_count": 1,
     "metadata": {},
     "output_type": "execute_result"
    }
   ],
   "source": [
    "x=5; y=7; #Defined globally\n",
    "function scopeTest(z)\n",
    "  x += z #Changes global value\n",
    "  y = Vector{Float64}(1) #Declares a variable, local scope\n",
    "  y[1] = 2\n",
    "  return x + y + z\n",
    "end"
   ]
  },
  {
   "cell_type": "markdown",
   "metadata": {},
   "source": [
    "However, what is happening here, and why?"
   ]
  },
  {
   "cell_type": "code",
   "execution_count": 6,
   "metadata": {
    "collapsed": false
   },
   "outputs": [
    {
     "ename": "UndefVarError",
     "evalue": "UndefVarError: x not defined",
     "output_type": "error",
     "traceback": [
      "UndefVarError: x not defined",
      "",
      "Stacktrace:",
      " [1] macro expansion at /buildworker/worker/package_linux64/build/usr/share/julia/stdlib/v1.0/Distributed/src/macros.jl:337 [inlined]",
      " [2] f1() at ./In[6]:4",
      " [3] top-level scope at In[6]:13"
     ]
    }
   ],
   "source": [
    "using Distributed\n",
    "addprocs(1)\n",
    "function f1()\n",
    "  @distributed for i = 1:100\n",
    "    x = 10\n",
    "    if x < 100\n",
    "      x = x + 1\n",
    "    end\n",
    "  end\n",
    "  x = x + 100 + 10\n",
    "  return x\n",
    "end\n",
    "f1()"
   ]
  },
  {
   "cell_type": "code",
   "execution_count": 7,
   "metadata": {
    "collapsed": false
   },
   "outputs": [
    {
     "data": {
      "text/plain": [
       "5"
      ]
     },
     "execution_count": 7,
     "metadata": {},
     "output_type": "execute_result"
    }
   ],
   "source": [
    "function f2()\n",
    "  @distributed for i = 1:100\n",
    "    x = 10\n",
    "    if x < 100\n",
    "      x = x + 1\n",
    "    end\n",
    "  end\n",
    "  return x\n",
    "end\n",
    "f2()"
   ]
  }
 ],
 "metadata": {
  "kernelspec": {
   "display_name": "Julia 1.0.0",
   "language": "julia",
   "name": "julia-1.0"
  },
  "language_info": {
   "file_extension": ".jl",
   "mimetype": "application/julia",
   "name": "julia",
   "version": "1.0.0"
  }
 },
 "nbformat": 4,
 "nbformat_minor": 2
}
