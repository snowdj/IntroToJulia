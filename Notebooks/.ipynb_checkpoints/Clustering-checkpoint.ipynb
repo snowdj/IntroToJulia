{
 "cells": [
  {
   "cell_type": "markdown",
   "metadata": {},
   "source": [
    "# Clustering\n"
   ]
  },
  {
   "cell_type": "markdown",
   "metadata": {},
   "source": [
    "## Basic Clustering Task\n",
    "\n",
    "Use the following dataset:"
   ]
  },
  {
   "cell_type": "code",
   "execution_count": 24,
   "metadata": {},
   "outputs": [
    {
     "name": "stderr",
     "output_type": "stream",
     "text": [
      "\u001b[1m\u001b[36mINFO: \u001b[39m\u001b[22m\u001b[36mPackage RDatasets is already installed\n",
      "\u001b[39m\u001b[1m\u001b[36mINFO: \u001b[39m\u001b[22m\u001b[36mMETADATA is out-of-date — you may not have the latest version of RDatasets\n",
      "\u001b[39m\u001b[1m\u001b[36mINFO: \u001b[39m\u001b[22m\u001b[36mUse `Pkg.update()` to get the latest versions of your packages\n",
      "\u001b[39m"
     ]
    },
    {
     "data": {
      "text/html": [
       "<table class=\"data-frame\"><thead><tr><th></th><th>SepalLength</th><th>SepalWidth</th><th>PetalLength</th><th>PetalWidth</th><th>Species</th></tr></thead><tbody><tr><th>1</th><td>5.1</td><td>3.5</td><td>1.4</td><td>0.2</td><td>setosa</td></tr><tr><th>2</th><td>4.9</td><td>3.0</td><td>1.4</td><td>0.2</td><td>setosa</td></tr><tr><th>3</th><td>4.7</td><td>3.2</td><td>1.3</td><td>0.2</td><td>setosa</td></tr><tr><th>4</th><td>4.6</td><td>3.1</td><td>1.5</td><td>0.2</td><td>setosa</td></tr><tr><th>5</th><td>5.0</td><td>3.6</td><td>1.4</td><td>0.2</td><td>setosa</td></tr><tr><th>6</th><td>5.4</td><td>3.9</td><td>1.7</td><td>0.4</td><td>setosa</td></tr><tr><th>7</th><td>4.6</td><td>3.4</td><td>1.4</td><td>0.3</td><td>setosa</td></tr><tr><th>8</th><td>5.0</td><td>3.4</td><td>1.5</td><td>0.2</td><td>setosa</td></tr><tr><th>9</th><td>4.4</td><td>2.9</td><td>1.4</td><td>0.2</td><td>setosa</td></tr><tr><th>10</th><td>4.9</td><td>3.1</td><td>1.5</td><td>0.1</td><td>setosa</td></tr><tr><th>11</th><td>5.4</td><td>3.7</td><td>1.5</td><td>0.2</td><td>setosa</td></tr><tr><th>12</th><td>4.8</td><td>3.4</td><td>1.6</td><td>0.2</td><td>setosa</td></tr><tr><th>13</th><td>4.8</td><td>3.0</td><td>1.4</td><td>0.1</td><td>setosa</td></tr><tr><th>14</th><td>4.3</td><td>3.0</td><td>1.1</td><td>0.1</td><td>setosa</td></tr><tr><th>15</th><td>5.8</td><td>4.0</td><td>1.2</td><td>0.2</td><td>setosa</td></tr><tr><th>16</th><td>5.7</td><td>4.4</td><td>1.5</td><td>0.4</td><td>setosa</td></tr><tr><th>17</th><td>5.4</td><td>3.9</td><td>1.3</td><td>0.4</td><td>setosa</td></tr><tr><th>18</th><td>5.1</td><td>3.5</td><td>1.4</td><td>0.3</td><td>setosa</td></tr><tr><th>19</th><td>5.7</td><td>3.8</td><td>1.7</td><td>0.3</td><td>setosa</td></tr><tr><th>20</th><td>5.1</td><td>3.8</td><td>1.5</td><td>0.3</td><td>setosa</td></tr><tr><th>21</th><td>5.4</td><td>3.4</td><td>1.7</td><td>0.2</td><td>setosa</td></tr><tr><th>22</th><td>5.1</td><td>3.7</td><td>1.5</td><td>0.4</td><td>setosa</td></tr><tr><th>23</th><td>4.6</td><td>3.6</td><td>1.0</td><td>0.2</td><td>setosa</td></tr><tr><th>24</th><td>5.1</td><td>3.3</td><td>1.7</td><td>0.5</td><td>setosa</td></tr><tr><th>25</th><td>4.8</td><td>3.4</td><td>1.9</td><td>0.2</td><td>setosa</td></tr><tr><th>26</th><td>5.0</td><td>3.0</td><td>1.6</td><td>0.2</td><td>setosa</td></tr><tr><th>27</th><td>5.0</td><td>3.4</td><td>1.6</td><td>0.4</td><td>setosa</td></tr><tr><th>28</th><td>5.2</td><td>3.5</td><td>1.5</td><td>0.2</td><td>setosa</td></tr><tr><th>29</th><td>5.2</td><td>3.4</td><td>1.4</td><td>0.2</td><td>setosa</td></tr><tr><th>30</th><td>4.7</td><td>3.2</td><td>1.6</td><td>0.2</td><td>setosa</td></tr><tr><th>&vellip;</th><td>&vellip;</td><td>&vellip;</td><td>&vellip;</td><td>&vellip;</td><td>&vellip;</td></tr></tbody></table>"
      ],
      "text/plain": [
       "150×5 DataFrames.DataFrame\n",
       "│ Row │ SepalLength │ SepalWidth │ PetalLength │ PetalWidth │ Species     │\n",
       "├─────┼─────────────┼────────────┼─────────────┼────────────┼─────────────┤\n",
       "│ 1   │ 5.1         │ 3.5        │ 1.4         │ 0.2        │ \"setosa\"    │\n",
       "│ 2   │ 4.9         │ 3.0        │ 1.4         │ 0.2        │ \"setosa\"    │\n",
       "│ 3   │ 4.7         │ 3.2        │ 1.3         │ 0.2        │ \"setosa\"    │\n",
       "│ 4   │ 4.6         │ 3.1        │ 1.5         │ 0.2        │ \"setosa\"    │\n",
       "│ 5   │ 5.0         │ 3.6        │ 1.4         │ 0.2        │ \"setosa\"    │\n",
       "│ 6   │ 5.4         │ 3.9        │ 1.7         │ 0.4        │ \"setosa\"    │\n",
       "│ 7   │ 4.6         │ 3.4        │ 1.4         │ 0.3        │ \"setosa\"    │\n",
       "│ 8   │ 5.0         │ 3.4        │ 1.5         │ 0.2        │ \"setosa\"    │\n",
       "│ 9   │ 4.4         │ 2.9        │ 1.4         │ 0.2        │ \"setosa\"    │\n",
       "│ 10  │ 4.9         │ 3.1        │ 1.5         │ 0.1        │ \"setosa\"    │\n",
       "│ 11  │ 5.4         │ 3.7        │ 1.5         │ 0.2        │ \"setosa\"    │\n",
       "⋮\n",
       "│ 139 │ 6.0         │ 3.0        │ 4.8         │ 1.8        │ \"virginica\" │\n",
       "│ 140 │ 6.9         │ 3.1        │ 5.4         │ 2.1        │ \"virginica\" │\n",
       "│ 141 │ 6.7         │ 3.1        │ 5.6         │ 2.4        │ \"virginica\" │\n",
       "│ 142 │ 6.9         │ 3.1        │ 5.1         │ 2.3        │ \"virginica\" │\n",
       "│ 143 │ 5.8         │ 2.7        │ 5.1         │ 1.9        │ \"virginica\" │\n",
       "│ 144 │ 6.8         │ 3.2        │ 5.9         │ 2.3        │ \"virginica\" │\n",
       "│ 145 │ 6.7         │ 3.3        │ 5.7         │ 2.5        │ \"virginica\" │\n",
       "│ 146 │ 6.7         │ 3.0        │ 5.2         │ 2.3        │ \"virginica\" │\n",
       "│ 147 │ 6.3         │ 2.5        │ 5.0         │ 1.9        │ \"virginica\" │\n",
       "│ 148 │ 6.5         │ 3.0        │ 5.2         │ 2.0        │ \"virginica\" │\n",
       "│ 149 │ 6.2         │ 3.4        │ 5.4         │ 2.3        │ \"virginica\" │\n",
       "│ 150 │ 5.9         │ 3.0        │ 5.1         │ 1.8        │ \"virginica\" │"
      ]
     },
     "execution_count": 24,
     "metadata": {},
     "output_type": "execute_result"
    }
   ],
   "source": [
    "# Pkg.add(\"RDatasets\")\n",
    "using RDatasets\n",
    "iris = dataset(\"datasets\", \"iris\")"
   ]
  },
  {
   "cell_type": "markdown",
   "metadata": {},
   "source": [
    "Use Clustering.jl to cluster using the `SepalLength`, `PetalLength`, and `PetalWidth`features via K-means clustering. Make a scatter plot of the resulting clusters.\n",
    "\n",
    "**Hint: You will need to index the dataframe, convert it to an array, and transpose it. In addition, you will need to use the `assignments` field of the return to get the cluster assignments**."
   ]
  },
  {
   "cell_type": "markdown",
   "metadata": {},
   "source": [
    "## Advanced Clustering Task\n",
    "\n",
    "For the the example presented here, we will use a subhset of Word Embedding, trained using [Word2Vec.jl](https://github.com/tanmaykm/Word2Vec.jl).\n",
    "These are 100 dimentional vectors, which encode syntactic and semantic information about words."
   ]
  },
  {
   "cell_type": "code",
   "execution_count": null,
   "metadata": {},
   "outputs": [],
   "source": [
    "using Embeddings\n",
    "countries = [\"Afghanistan\", \"Algeria\", \"Angola\", \"Arabia\", \"Argentina\", \"Australia\", \"Bangladesh\", \"Brazil\", \"Britain\", \"Canada\", \"China\", \"Colombia\", \"Congo\", \"Egypt\", \"England\", \"Ethiopia\", \"France\", \"Germany\", \"Ghana\", \"India\", \"Indonesia\", \"Iran\", \"Iraq\", \"Ireland\", \"Italy\", \"Japan\", \"Kenya\", \"Korea\", \"Madagascar\", \"Malaysia\", \"Mexico\", \"Morocco\", \"Mozambique\", \"Myanmar\", \"Nepal\", \"Nigeria\", \"Pakistan\", \"Peru\", \"Philippines\", \"Poland\", \"Russia\", \"South\", \"Spain\", \"Sudan\", \"Tanzania\", \"Thailand\", \"Uganda\", \"Ukraine\", \"Usa\", \"Uzbekistan\", \"Venezuela\", \"Vietnam\", \"Wales\", \"Yemen\"]\n",
    "usa_cities = [\"Albuquerque\", \"Atlanta\", \"Austin\", \"Baltimore\", \"Boston\", \"Charlotte\", \"Chicago\", \"Columbus\", \"Dallas\", \"Denver\", \"Detroit\", \"Francisco\", \"Fresno\", \"Houston\", \"Indianapolis\", \"Jacksonville\", \"Las\", \"Louisville\", \"Memphis\", \"Mesa\", \"Milwaukee\", \"Nashville\", \"Omaha\", \"Philadelphia\", \"Phoenix\", \"Portland\", \"Raleigh\", \"Sacramento\", \"San\", \"Seattle\", \"Tucson\", \"Vegas\", \"Washington\"]\n",
    "world_capitals = [\"Accra\", \"Algiers\", \"Amman\", \"Ankara\", \"Antananarivo\", \"Athens\", \"Baghdad\", \"Baku\", \"Bangkok\", \"Beijing\", \"Beirut\", \"Berlin\", \"Bogotá\", \"Brasília\", \"Bucharest\", \"Budapest\", \"Cairo\", \"Caracas\", \"Damascus\", \"Dhaka\", \"Hanoi\", \"Havana\", \"Jakarta\", \"Kabul\", \"Kampala\", \"Khartoum\", \"Kinshasa\", \"Kyiv\", \"Lima\", \"London\", \"Luanda\", \"Madrid\", \"Manila\", \"Minsk\", \"Moscow\", \"Nairobi\", \"Paris\", \"Pretoria\", \"Pyongyang\", \"Quito\", \"Rabat\", \"Riyadh\", \"Rome\", \"Santiago\", \"Seoul\", \"Singapore\", \"Stockholm\", \"Taipei\", \"Tashkent\", \"Tehran\", \"Tokyo\", \"Vienna\", \"Warsaw\", \"Yaoundé\"]\n",
    "animals = [\"alpaca\",\"camel\",\"cattle\",\"dog\",\"dove\",\"duck\",\"ferret\",\"goldfish\",\"goose\",\"rat\",\"llama\",\"mouse\",\"pigeon\",\"yak\"]\n",
    "sports = [\"archery\",\"badminton\",\"basketball\",\"boxing\",\"cycling\",\"diving\",\"equestrian\",\"fencing\",\"field\",\"football\",\"golf\",\"gymnastics\",\"handball\",\"hockey\",\"judo\",\"kayak\",\"pentathlon\",\"polo\",\"rowing\",\"rugby\",\"sailing\",\"shooting\",\"soccer\",\"swimming\",\"taekwondo\",\"tennis\",\"triathlon\",\"volleyball\",\"weightlifting\",\"wrestling\"]\n",
    "\n",
    "words_by_class = [countries, usa_cities, world_capitals, animals, sports]\n",
    "all_words = reduce(vcat, words_by_class)\n",
    "embedding_table = load_embeddings(Word2Vec; keep_words = all_words) \n",
    "@assert Set(all_words) == Set(embedding_table.vocab)\n",
    "\n",
    "embeddings = embedding_table.embeddings\n",
    "all_words = embedding_table.vocab\n",
    "classes = map(all_words) do word\n",
    "    findfirst(col -> word ∈ col, [countries, usa_cities, world_capitals, animals, sports])\n",
    "end;"
   ]
  },
  {
   "cell_type": "markdown",
   "metadata": {},
   "source": [
    "You can download the datased from [here](http://ucidatascienceinitiative.github.io/IntroToJulia/Html/ForwardDiff), and load it up with [JLD](https://github.com/JuliaIO/JLD.jl) as shown below. (or just load it directly if you have cloned the notebooks)\n",
    "\n",
    " - Use Affinity Propagraion from [Clustering.jl](https://github.com/JuliaStats/Clustering.jl), to cluster word2vec word embeddings, according to meaning.\n",
    " - Done right this will seperate locations from sports\n",
    " - Done finely and it will seperate ball-sports from other sports, and will seperate locations according to regions, etc \n",
    " \n",
    " - Affinity propagraion requires a similarity matrix, which you can set as a negated distance matrix. \n",
    " - For this you'll also want  [Distances.jl](https://github.com/JuliaStats/Distances.jl) for all your distance metric needs. \n",
    " - It is traditional with word2vec to use cosine distance.\n",
    " - You will as also need to set each item's availability. This is the diagonal of the similarity matrix. Decreasing it roughly corresponds to decreasing the amount each node wants to be in a cluster on its own.\n"
   ]
  }
 ],
 "metadata": {
  "anaconda-cloud": {},
  "kernelspec": {
   "display_name": "Julia 1.0.0",
   "language": "julia",
   "name": "julia-1.0"
  },
  "language_info": {
   "file_extension": ".jl",
   "mimetype": "application/julia",
   "name": "julia",
   "version": "1.0.0"
  }
 },
 "nbformat": 4,
 "nbformat_minor": 2
}
