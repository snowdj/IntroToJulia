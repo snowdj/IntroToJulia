{
 "cells": [
  {
   "cell_type": "markdown",
   "metadata": {},
   "source": [
    "# Solutions to  Dimensionality Reduction \n",
    "\n",
    "# Dimensionality Reduction Task\n",
    "\n",
    " - Use PCA from [MultivariateStats.jl](https://github.com/JuliaStats/MultivariateStats.jl), to reduce 100 dimentional word embedding down to 3,2 and 1 dimentions. \n",
    " - Plot these using [Plots.jl](https://github.com/tbreloff/Plots.jl), coloring acording to class\n",
    " \n",
    "## Tips:\n",
    "\n",
    " - `plotly` is a good backend for 3D Plotting.\n",
    " - The command `scatter(xs[1,:], xs[2,:], xs[3,:]; hover=all_words, zcolor=classes)` \n",
    "   - will plot a 3D scatter plot\n",
    "   - coloring each point according to the numerical array `classes`\n",
    "   - and putting a tooltip on each point, according to the string array `all_words`"
   ]
  },
  {
   "cell_type": "markdown",
   "metadata": {},
   "source": [
    "# First we loadup some data\n",
    "For the the example presented here, we will use a subset of some pretrained word2vec word embedding, using the [Embeddings.jl](https://github.com/JuliaText/Embeddings.jl/) package.\n",
    "These are 300 dimentional vectors, which encode syntactic and semantic information about words.\n",
    "\n",
    "\n",
    "Example code for the loading,\n",
    "together with the words sorted into their original classes is below.\n"
   ]
  },
  {
   "cell_type": "code",
   "execution_count": 48,
   "metadata": {
    "scrolled": true
   },
   "outputs": [],
   "source": [
    "using Embeddings\n",
    "countries = [\"Afghanistan\", \"Algeria\", \"Angola\", \"Arabia\", \"Argentina\", \"Australia\", \"Bangladesh\", \"Brazil\", \"Britain\", \"Canada\", \"China\", \"Colombia\", \"Congo\", \"Egypt\", \"England\", \"Ethiopia\", \"France\", \"Germany\", \"Ghana\", \"India\", \"Indonesia\", \"Iran\", \"Iraq\", \"Ireland\", \"Italy\", \"Japan\", \"Kenya\", \"Korea\", \"Madagascar\", \"Malaysia\", \"Mexico\", \"Morocco\", \"Mozambique\", \"Myanmar\", \"Nepal\", \"Nigeria\", \"Pakistan\", \"Peru\", \"Philippines\", \"Poland\", \"Russia\", \"South\", \"Spain\", \"Sudan\", \"Tanzania\", \"Thailand\", \"Uganda\", \"Ukraine\", \"Usa\", \"Uzbekistan\", \"Venezuela\", \"Vietnam\", \"Wales\", \"Yemen\"]\n",
    "usa_cities = [\"Albuquerque\", \"Atlanta\", \"Austin\", \"Baltimore\", \"Boston\", \"Charlotte\", \"Chicago\", \"Columbus\", \"Dallas\", \"Denver\", \"Detroit\", \"Francisco\", \"Fresno\", \"Houston\", \"Indianapolis\", \"Jacksonville\", \"Las\", \"Louisville\", \"Memphis\", \"Mesa\", \"Milwaukee\", \"Nashville\", \"Omaha\", \"Philadelphia\", \"Phoenix\", \"Portland\", \"Raleigh\", \"Sacramento\", \"San\", \"Seattle\", \"Tucson\", \"Vegas\", \"Washington\"]\n",
    "world_capitals = [\"Accra\", \"Algiers\", \"Amman\", \"Ankara\", \"Antananarivo\", \"Athens\", \"Baghdad\", \"Baku\", \"Bangkok\", \"Beijing\", \"Beirut\", \"Berlin\", \"Bogotá\", \"Brasília\", \"Bucharest\", \"Budapest\", \"Cairo\", \"Caracas\", \"Damascus\", \"Dhaka\", \"Hanoi\", \"Havana\", \"Jakarta\", \"Kabul\", \"Kampala\", \"Khartoum\", \"Kinshasa\", \"Kyiv\", \"Lima\", \"London\", \"Luanda\", \"Madrid\", \"Manila\", \"Minsk\", \"Moscow\", \"Nairobi\", \"Paris\", \"Pretoria\", \"Pyongyang\", \"Quito\", \"Rabat\", \"Riyadh\", \"Rome\", \"Santiago\", \"Seoul\", \"Singapore\", \"Stockholm\", \"Taipei\", \"Tashkent\", \"Tehran\", \"Tokyo\", \"Vienna\", \"Warsaw\", \"Yaoundé\"]\n",
    "animals = [\"alpaca\",\"camel\",\"cattle\",\"dog\",\"dove\",\"duck\",\"ferret\",\"goldfish\",\"goose\",\"rat\",\"llama\",\"mouse\",\"pigeon\",\"yak\"]\n",
    "sports = [\"archery\",\"badminton\",\"basketball\",\"boxing\",\"cycling\",\"diving\",\"equestrian\",\"fencing\",\"field\",\"football\",\"golf\",\"gymnastics\",\"handball\",\"hockey\",\"judo\",\"kayak\",\"pentathlon\",\"polo\",\"rowing\",\"rugby\",\"sailing\",\"shooting\",\"soccer\",\"swimming\",\"taekwondo\",\"tennis\",\"triathlon\",\"volleyball\",\"weightlifting\",\"wrestling\"]\n",
    "\n",
    "words_by_class = [countries, usa_cities, world_capitals, animals, sports]\n",
    "all_words = reduce(vcat, words_by_class)\n",
    "embedding_table = load_embeddings(Word2Vec; keep_words = all_words) \n",
    "@assert Set(all_words) == Set(embedding_table.vocab)\n",
    "\n",
    "embeddings = embedding_table.embeddings\n",
    "all_words = embedding_table.vocab\n",
    "classes = map(all_words) do word\n",
    "    findfirst(col -> word ∈ col, [countries, usa_cities, world_capitals, animals, sports])\n",
    "end;"
   ]
  },
  {
   "cell_type": "markdown",
   "metadata": {},
   "source": [
    "# Extension: T-SNE\n",
    "\n",
    " - Use [TSne.jl](https://github.com/lejon/TSne.jl), to perform similar dimentionality reduction, and to produce plots.\n",
    "\n",
    "T-SNE is another popluar DR method.  \n",
    "Be warned: it is sideways -- it is row major, so tanspose the inputs and outputs\n",
    "\n",
    "You may have to play with the perplexity to get it to work well.\n",
    "\n",
    "\n",
    "If you look at the resulting plots, you may note that countries are often paired uo with their captical city."
   ]
  }
 ],
 "metadata": {
  "anaconda-cloud": {},
  "kernelspec": {
   "display_name": "Julia 0.7.0",
   "language": "julia",
   "name": "julia-0.7"
  },
  "language_info": {
   "file_extension": ".jl",
   "mimetype": "application/julia",
   "name": "julia",
   "version": "0.7.0"
  }
 },
 "nbformat": 4,
 "nbformat_minor": 2
}
