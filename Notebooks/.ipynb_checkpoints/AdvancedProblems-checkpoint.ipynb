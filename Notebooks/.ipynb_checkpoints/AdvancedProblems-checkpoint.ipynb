{
 "cells": [
  {
   "cell_type": "markdown",
   "metadata": {},
   "source": [
    "# Advanced Problems"
   ]
  },
  {
   "cell_type": "markdown",
   "metadata": {},
   "source": [
    "## Metaprogramming Problem\n",
    "\n",
    "[Metaprogramming in Julia](https://docs.julialang.org/en/stable/manual/metaprogramming/) is the practice of writing code that generates code. There are many uses for metaprogramming, but it generally falls into two categories:\n",
    "\n",
    "1. Implementing \"new language features\" you want.\n",
    "2. Implementing syntactic sugar.\n",
    "\n",
    "For new language features, you can do things like [create inheritance from abstract types](https://github.com/tbreloff/ConcreteAbstractions.jl) if you want. But we'll focus on 2. Syntactic sugar metaprogramming is the generation of new syntax rules which makes it easy to do common tasks.\n",
    "\n",
    "Evluation of a polynomial is a common task in many disciplines. Julia's Base provides `@evalpoly x a0 a1 a2 ...` that implements `a0 + x*a1 + x^2 * a2 + ...` using Horner's rule, which is writing it out as: `(((an*x) + a(n-1))*x + ...) * x + a0`.\n",
    "\n",
    "Implement your own version of the `@evalpoly` macro called `@myevalpoly`.\n",
    "\n",
    "#### Note: While you can create values using macros in the top level scope, this is not good practice and will not work in function scopes. Instead, you should return an expression for the computation of the polynomial"
   ]
  },
  {
   "cell_type": "markdown",
   "metadata": {},
   "source": [
    "## Plot the roots of Wilkinson's polynomial with perturbation\n",
    "\n",
    "[Wilkinson's polynomial](https://en.wikipedia.org/wiki/Wilkinson%27s_polynomial) has the form\n",
    "$$\n",
    "w(x)=\\underbrace{\\prod_{i=1}^{20}(x-i)}_\\text{root form}=\\underbrace{a_1+a_2x+a_3x^2+\\cdots+a_{21}x^{20}}_\\text{coefficient form}.\n",
    "$$\n",
    "It is a famous example of ill-conditioning in numerical analysis. One can show this visually by plotting the roots of polynomials with perturbed coefficients $\\hat{a}_k=a_k(1+10^{-10}r_k)$, where $r_k$ is a normally distributed random number.\n",
    "\n",
    "This problem has three parts, which are\n",
    "\n",
    "1. Convert root form to coefficient form. (Compute $a_k$)\n",
    "2. Calculate roots of a polynomial by using the [companion matrix](https://en.wikipedia.org/wiki/Companion_matrix).\n",
    "3. Plot the roots of polynomials"
   ]
  }
 ],
 "metadata": {
  "kernelspec": {
   "display_name": "Julia 1.0.0",
   "language": "julia",
   "name": "julia-1.0"
  },
  "language_info": {
   "file_extension": ".jl",
   "mimetype": "application/julia",
   "name": "julia",
   "version": "1.0.0"
  }
 },
 "nbformat": 4,
 "nbformat_minor": 2
}
