{
 "cells": [
  {
   "cell_type": "markdown",
   "metadata": {},
   "source": [
    "## LightGraphs Problem"
   ]
  },
  {
   "cell_type": "code",
   "execution_count": null,
   "metadata": {
    "collapsed": false
   },
   "outputs": [],
   "source": [
    "using LightGraphs, Distributions\n",
    "function mkTree(maxdepth::Int = 10, p::Float64 = 0.8, g::SimpleGraph = Graph(1), currhead::Int = 1)\n",
    "    if (maxdepth <= 1) g\n",
    "    else\n",
    "       b = Binomial(2, p)\n",
    "       nEdges = max(1, rand(b))\n",
    "        for leaves in 1:nEdges\n",
    "            add_vertex!(g)\n",
    "            newnode = nv(g)\n",
    "            add_edge!(g, currhead, newnode)\n",
    "            mkTree(maxdepth-1, p, g, newnode)\n",
    "        end\n",
    "    end\n",
    "    g\n",
    "end"
   ]
  }
 ],
 "metadata": {
  "anaconda-cloud": {},
  "kernelspec": {
   "display_name": "Julia 0.5.2",
   "language": "julia",
   "name": "julia-0.5"
  },
  "language_info": {
   "file_extension": ".jl",
   "mimetype": "application/julia",
   "name": "julia",
   "version": "0.5.2"
  }
 },
 "nbformat": 4,
 "nbformat_minor": 1
}
