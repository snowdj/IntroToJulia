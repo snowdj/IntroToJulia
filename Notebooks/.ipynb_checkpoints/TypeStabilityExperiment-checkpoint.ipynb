{
 "cells": [
  {
   "cell_type": "code",
   "execution_count": null,
   "metadata": {
    "collapsed": true
   },
   "outputs": [],
   "source": [
    "const N = 100000\n",
    "function typeunstable(x::Number)\n",
    "  for i=1:N\n",
    "    x += rand()\n",
    "  end\n",
    "  x\n",
    "end\n",
    "x = 1\n",
    "@time typeunstable(x)\n",
    "x = 1.0\n",
    "@time typeunstable(x)\n",
    "\n",
    "function typeunstable2(x::Number)\n",
    "  float(x)\n",
    "  function wrapped()\n",
    "    for i=1:N\n",
    "      x += rand()\n",
    "    end\n",
    "    x\n",
    "  end\n",
    "  wrapped()\n",
    "end\n",
    "x=1\n",
    "@time typeunstable2(x)\n",
    "x = 1.0\n",
    "@time typeunstable2(x)\n",
    "\n",
    "\n",
    "function typestable(x::Number)\n",
    "  function wrapped(x::Float64)\n",
    "    for i=1:N\n",
    "      x += rand()\n",
    "    end\n",
    "    x\n",
    "  end\n",
    "  wrapped(x::Int) = wrapped(float(x))\n",
    "  wrapped(x)\n",
    "end\n",
    "x=1\n",
    "@time typestable(x)\n",
    "x = 1.0\n",
    "@time typestable(x)\n",
    "\n",
    "function wrapped2(x::Float64)\n",
    "  for i=1:N\n",
    "    x += rand()\n",
    "  end\n",
    "  x\n",
    "end\n",
    "wrapped2(x::Int) = wrapped2(float(x))\n",
    "function typestable2(x::Number)\n",
    "  wrapped2(x)\n",
    "end\n",
    "\n",
    "x=1\n",
    "@time typestable2(x)\n",
    "x = 1.0\n",
    "@time typestable2(x)"
   ]
  }
 ],
 "metadata": {
  "kernelspec": {
   "display_name": "Julia 0.5.2",
   "language": "julia",
   "name": "julia-0.5"
  },
  "language_info": {
   "file_extension": ".jl",
   "mimetype": "application/julia",
   "name": "julia",
   "version": "0.5.2"
  }
 },
 "nbformat": 4,
 "nbformat_minor": 0
}
