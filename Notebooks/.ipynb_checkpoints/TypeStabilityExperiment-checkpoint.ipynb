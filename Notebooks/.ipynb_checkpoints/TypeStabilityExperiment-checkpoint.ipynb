{
 "cells": [
  {
   "cell_type": "code",
   "execution_count": 1,
   "metadata": {
    "collapsed": true
   },
   "outputs": [
    {
     "name": "stdout",
     "output_type": "stream",
     "text": [
      "  0.010574 seconds (15.99 k allocations: 843.985 KiB)\n",
      "  0.007988 seconds (13.76 k allocations: 726.462 KiB)\n",
      "  0.020086 seconds (217.46 k allocations: 3.943 MiB)\n",
      "  0.013769 seconds (203.31 k allocations: 3.225 MiB)\n",
      "  0.016915 seconds (17.05 k allocations: 896.674 KiB)\n",
      "  0.003922 seconds (1.71 k allocations: 88.008 KiB)\n",
      "  0.009934 seconds (15.54 k allocations: 829.981 KiB)\n",
      "  0.002742 seconds (524 allocations: 32.446 KiB)\n"
     ]
    },
    {
     "data": {
      "text/plain": [
       "50006.16136107734"
      ]
     },
     "execution_count": 1,
     "metadata": {},
     "output_type": "execute_result"
    }
   ],
   "source": [
    "const N = 100000\n",
    "function typeunstable(x::Number)\n",
    "  for i=1:N\n",
    "    x += rand()\n",
    "  end\n",
    "  x\n",
    "end\n",
    "x = 1\n",
    "@time typeunstable(x)\n",
    "x = 1.0\n",
    "@time typeunstable(x)\n",
    "\n",
    "function typeunstable2(x::Number)\n",
    "  float(x)\n",
    "  function wrapped()\n",
    "    for i=1:N\n",
    "      x += rand()\n",
    "    end\n",
    "    x\n",
    "  end\n",
    "  wrapped()\n",
    "end\n",
    "x=1\n",
    "@time typeunstable2(x)\n",
    "x = 1.0\n",
    "@time typeunstable2(x)\n",
    "\n",
    "\n",
    "function typestable(x::Number)\n",
    "  function wrapped(x::Float64)\n",
    "    for i=1:N\n",
    "      x += rand()\n",
    "    end\n",
    "    x\n",
    "  end\n",
    "  wrapped(x::Int) = wrapped(float(x))\n",
    "  wrapped(x)\n",
    "end\n",
    "x=1\n",
    "@time typestable(x)\n",
    "x = 1.0\n",
    "@time typestable(x)\n",
    "\n",
    "function wrapped2(x::Float64)\n",
    "  for i=1:N\n",
    "    x += rand()\n",
    "  end\n",
    "  x\n",
    "end\n",
    "wrapped2(x::Int) = wrapped2(float(x))\n",
    "function typestable2(x::Number)\n",
    "  wrapped2(x)\n",
    "end\n",
    "\n",
    "x=1\n",
    "@time typestable2(x)\n",
    "x = 1.0\n",
    "@time typestable2(x)"
   ]
  }
 ],
 "metadata": {
  "kernelspec": {
   "display_name": "Julia 1.0.0",
   "language": "julia",
   "name": "julia-1.0"
  },
  "language_info": {
   "file_extension": ".jl",
   "mimetype": "application/julia",
   "name": "julia",
   "version": "1.0.0"
  }
 },
 "nbformat": 4,
 "nbformat_minor": 2
}
