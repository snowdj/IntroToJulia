{
 "cells": [
  {
   "cell_type": "markdown",
   "metadata": {
    "slideshow": {
     "slide_type": "slide"
    }
   },
   "source": [
    "## The Array and Iterator Interface\n",
    "\n",
    "Julia has a few \"informal\" interfaces. The idea is that, if you subclass a given abstract type and implement a few methods, then by multiple dispatch the type will now \"act like\" whatever you want it to act like, in any instance you would like.\n",
    "\n",
    "One example is the array interface. The methods to implement are:\n",
    "\n",
    "- `size(A)`\n",
    "- `getindex(A, i::Int)`\n",
    "- `getindex(A, I::Vararg{Int, N})`\n",
    "- `setindex!(A, v, i::Int)`\n",
    "- `setindex!(A, v, I::Vararg{Int, N})`\n",
    "\n",
    "`size(A)` returns what the size of the array is as a tuple. For example, a 3-dimensional \"array\" (remember, it can be anything, we are just saying it acts like an array!) would have `size(A)` return a tuple `(dim1,dim2,dim3)` for the sizes along each dimension. `getindex` is the function that is used by `A[i]`, and `setindex!` is the function for mutating `A` via `A[i]=`. \n",
    "\n",
    "The `Vararg{Int, N}` just means variable numbers of arguments, so for example `getindex(A,i1,i2)` is what is called by `A[i1,i2]`. More generally, using slurping you can define `getindex(A,I...)` and the function for `A[i1,i2,...,in]`, and `I` will be a tuple of `(i1,i2,...,in)`.\n",
    "\n",
    "Reference: http://docs.julialang.org/en/release-0.5/manual/interfaces/"
   ]
  },
  {
   "cell_type": "markdown",
   "metadata": {
    "slideshow": {
     "slide_type": "slide"
    }
   },
   "source": [
    "## Usage Example\n",
    "\n",
    "One usage example is in DifferentialEquations.jl. When you solve a differential equation, the solution returns a specialized solution type."
   ]
  },
  {
   "cell_type": "code",
   "execution_count": 1,
   "metadata": {
    "slideshow": {
     "slide_type": "slide"
    }
   },
   "outputs": [
    {
     "data": {
      "text/plain": [
       "retcode: Success\n",
       "Interpolation: 3rd order Hermite\n",
       "t: 5-element Array{Float64,1}:\n",
       " 0.0                \n",
       " 0.09964258706516003\n",
       " 0.3457030604980719 \n",
       " 0.6776923233260352 \n",
       " 1.0                \n",
       "u: 5-element Array{Float64,1}:\n",
       " 0.5               \n",
       " 0.552938681151017 \n",
       " 0.7089380797962724\n",
       " 0.9913595829297396\n",
       " 1.3728004409038075"
      ]
     },
     "execution_count": 1,
     "metadata": {},
     "output_type": "execute_result"
    }
   ],
   "source": [
    "using DifferentialEquations\n",
    "prob = ODEProblem((u,p,t)->1.01u,0.5,(0.0,1.0))\n",
    "sol = solve(prob)"
   ]
  },
  {
   "cell_type": "markdown",
   "metadata": {
    "slideshow": {
     "slide_type": "fragment"
    }
   },
   "source": [
    "While there are many fields that the type could hold, such as the errors of a given analytical solution:"
   ]
  },
  {
   "cell_type": "code",
   "execution_count": 2,
   "metadata": {
    "slideshow": {
     "slide_type": "fragment"
    }
   },
   "outputs": [
    {
     "name": "stdout",
     "output_type": "stream",
     "text": [
      "retcode: Success\n",
      "Interpolation: 3rd order Hermite\n",
      "t: [0.0, 0.0996426, 0.345703, 0.677692, 1.0]\n",
      "u: [0.5, 0.552939, 0.708938, 0.99136, 1.3728]\n"
     ]
    }
   ],
   "source": [
    "println(sol)"
   ]
  },
  {
   "cell_type": "markdown",
   "metadata": {
    "slideshow": {
     "slide_type": "fragment"
    }
   },
   "source": [
    "An array interface is provided so that the solution \"acts\" like a traditional solution: i.e. as an array of the numerically computed values:"
   ]
  },
  {
   "cell_type": "code",
   "execution_count": 3,
   "metadata": {
    "slideshow": {
     "slide_type": "fragment"
    }
   },
   "outputs": [
    {
     "name": "stdout",
     "output_type": "stream",
     "text": [
      "0.3457030604980719\n"
     ]
    },
    {
     "data": {
      "text/plain": [
       "0.7089380797962724"
      ]
     },
     "execution_count": 3,
     "metadata": {},
     "output_type": "execute_result"
    }
   ],
   "source": [
    "println(sol.t[3]) # The third timestep\n",
    "sol[3] # The value at the third timestep"
   ]
  },
  {
   "cell_type": "markdown",
   "metadata": {
    "slideshow": {
     "slide_type": "fragment"
    }
   },
   "source": [
    "An entire Julia organization, JuliaArrays, is devoted to making fast, interesting, and easy to use arrays. It's an odd concept: arrays are just arrays, right? However, Julia's genericism makes it so that way this now works in any place which accepts an `AbstractVector` output, so the solution is directly usable in numerical optimization algorithms, regressions, etc."
   ]
  }
 ],
 "metadata": {
  "anaconda-cloud": {},
  "celltoolbar": "Slideshow",
  "kernelspec": {
   "display_name": "Julia 1.0.0",
   "language": "julia",
   "name": "julia-1.0"
  },
  "language_info": {
   "file_extension": ".jl",
   "mimetype": "application/julia",
   "name": "julia",
   "version": "1.0.0"
  }
 },
 "nbformat": 4,
 "nbformat_minor": 2
}
