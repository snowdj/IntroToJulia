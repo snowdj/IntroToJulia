{
 "cells": [
  {
   "cell_type": "markdown",
   "metadata": {},
   "source": [
    "# Advanced Problem Answers\n",
    "\n",
    "## Metaprogramming Problem"
   ]
  },
  {
   "cell_type": "code",
   "execution_count": 1,
   "metadata": {},
   "outputs": [
    {
     "data": {
      "text/plain": [
       "@myevalpoly (macro with 1 method)"
      ]
     },
     "execution_count": 1,
     "metadata": {},
     "output_type": "execute_result"
    }
   ],
   "source": [
    "macro myevalpoly(z,a...)\n",
    "    isempty(a) && error(\"You forgot to pass coefficients!\")\n",
    "    ex = :($(a[length(a)]))\n",
    "    for i in 1:length(a)-1\n",
    "       ex = :($ex * $(z) + $(a[length(a)-i]) ) \n",
    "    end\n",
    "    println(ex)\n",
    "    ex\n",
    "end"
   ]
  },
  {
   "cell_type": "code",
   "execution_count": 2,
   "metadata": {},
   "outputs": [
    {
     "name": "stdout",
     "output_type": "stream",
     "text": [
      "((5 * 7 + 4) * 7 + 3) * 7 + 2\n"
     ]
    },
    {
     "data": {
      "text/plain": [
       "1934"
      ]
     },
     "execution_count": 2,
     "metadata": {},
     "output_type": "execute_result"
    }
   ],
   "source": [
    "@myevalpoly 7 2 3 4 5"
   ]
  },
  {
   "cell_type": "code",
   "execution_count": 3,
   "metadata": {},
   "outputs": [
    {
     "data": {
      "text/plain": [
       "1934"
      ]
     },
     "execution_count": 3,
     "metadata": {},
     "output_type": "execute_result"
    }
   ],
   "source": [
    "@evalpoly 7 2 3 4 5"
   ]
  },
  {
   "cell_type": "markdown",
   "metadata": {},
   "source": [
    "## Plot the roots of Wilkinson's polynomial with perturbation\n",
    "\n",
    "First, we need to construct coefficients $a_k$. For the polynomial $\\prod_{i=1}^4 (x-z_i)$, we have the coefficients $$\\left(\n",
    "\\begin{array}{c}\n",
    " z_1 z_2 z_3 z_4 \\\\\n",
    " -z_1 z_2 z_3-z_1 z_4 z_3-z_2 z_4 z_3-z_1 z_2 z_4 \\\\\n",
    " z_1 z_2+z_3 z_2+z_4 z_2+z_1 z_3+z_1 z_4+z_3 z_4 \\\\\n",
    " -z_1-z_2-z_3-z_4 \\\\\n",
    " 1 \\\\\n",
    "\\end{array}\n",
    "\\right),$$ thus we can exploit the structure and write a double `for` loop to calculate the coefficients. A more general formula is \n",
    "$$\n",
    "\\begin{cases}\n",
    "1 = a_{n}\\\\\n",
    "x_{1}+x_{2}+\\dots +x_{n-1}+x_{n}=-a_{n-1}\\\\\n",
    "(x_{1}x_{2}+x_{1}x_{3}+\\cdots +x_{1}x_{n})+(x_{2}x_{3}+x_{2}x_{4}+\\cdots +x_{2}x_{n})+\\cdots +x_{n-1}x_{n}=a_{n-2}\\\\\n",
    "\\quad \\vdots \\\\\n",
    "x_{1}x_{2}\\dots x_{n}=(-1)^{n}a_{0}.\\end{cases}\n",
    "$$\n",
    "Checkout [Vieta's formulas](https://en.wikipedia.org/wiki/Vieta%27s_formulas) for more information."
   ]
  },
  {
   "cell_type": "code",
   "execution_count": 4,
   "metadata": {},
   "outputs": [
    {
     "name": "stdout",
     "output_type": "stream",
     "text": [
      "(typemax(Int), typemax(Int128)) = (9223372036854775807, 170141183460469231731687303715884105727)\n"
     ]
    },
    {
     "data": {
      "text/plain": [
       "21-element Array{Int64,1}:\n",
       "  2432902008176640000\n",
       " -8752948036761600000\n",
       " -4642984320068847616\n",
       "  5575812828558562816\n",
       "  8037811822645051776\n",
       " -3599979517947607200\n",
       "  1206647803780373360\n",
       "  -311333643161390640\n",
       "    63030812099294896\n",
       "   -10142299865511450\n",
       "     1307535010540395\n",
       "     -135585182899530\n",
       "       11310276995381\n",
       "        -756111184500\n",
       "          40171771630\n",
       "          -1672280820\n",
       "             53327946\n",
       "             -1256850\n",
       "                20615\n",
       "                 -210\n",
       "                    1"
      ]
     },
     "execution_count": 4,
     "metadata": {},
     "output_type": "execute_result"
    }
   ],
   "source": [
    "function root2coeff(z::AbstractVector{T}) where T\n",
    "    N = length(z)\n",
    "    co = zeros(T, N+1)\n",
    "    # The last coefficient is always one\n",
    "    co[end] = 1\n",
    "    # The outer loop adds one root at a time\n",
    "    for j in 1:N, i in j:-1:1\n",
    "        co[end-i] -= z[j]*co[end-i+1]\n",
    "    end\n",
    "    co\n",
    "end\n",
    "@show typemax(Int), typemax(Int128)\n",
    "root2coeff(1:20)"
   ]
  },
  {
   "cell_type": "markdown",
   "metadata": {},
   "source": [
    "Those numbers are close to `typemax(Int)`, so integer overflows may occur, lets use `Int128` instead."
   ]
  },
  {
   "cell_type": "code",
   "execution_count": 5,
   "metadata": {},
   "outputs": [
    {
     "data": {
      "text/plain": [
       "21-element Array{Int128,1}:\n",
       "   2432902008176640000\n",
       "  -8752948036761600000\n",
       "  13803759753640704000\n",
       " -12870931245150988800\n",
       "   8037811822645051776\n",
       "  -3599979517947607200\n",
       "   1206647803780373360\n",
       "   -311333643161390640\n",
       "     63030812099294896\n",
       "    -10142299865511450\n",
       "      1307535010540395\n",
       "      -135585182899530\n",
       "        11310276995381\n",
       "         -756111184500\n",
       "           40171771630\n",
       "           -1672280820\n",
       "              53327946\n",
       "              -1256850\n",
       "                 20615\n",
       "                  -210\n",
       "                     1"
      ]
     },
     "execution_count": 5,
     "metadata": {},
     "output_type": "execute_result"
    }
   ],
   "source": [
    "root2coeff(Int128(1):20)"
   ]
  },
  {
   "cell_type": "markdown",
   "metadata": {},
   "source": [
    "Next, we need to construct a [companion matrix](https://en.wikipedia.org/wiki/Companion_matrix) and solve for roots.\n",
    "A companion matrix is in the form of\n",
    "$$\n",
    "\\begin{bmatrix}0&0&\\dots &0&-z_{1}\\\\1&0&\\dots &0&-z_{2}\\\\0&1&\\dots &0&-z_{3}\\\\\\vdots &\\vdots &\\ddots &\\vdots &\\vdots \\\\0&0&\\dots &1&-z_{n-1}\\end{bmatrix}.\n",
    "$$"
   ]
  },
  {
   "cell_type": "code",
   "execution_count": 6,
   "metadata": {},
   "outputs": [
    {
     "data": {
      "text/plain": [
       "poly_roots (generic function with 1 method)"
      ]
     },
     "execution_count": 6,
     "metadata": {},
     "output_type": "execute_result"
    }
   ],
   "source": [
    "function poly_roots(z)\n",
    "    len = length(z)\n",
    "    # construct the ones part\n",
    "    mat = diagm(ones(len-2), -1)\n",
    "    # insert coefficients\n",
    "    mat[:, end] = -z[1:end-1]\n",
    "    eigvals(mat)\n",
    "end"
   ]
  },
  {
   "cell_type": "markdown",
   "metadata": {},
   "source": [
    "We have everything ready now. We just need to calculate all the roots and plot it."
   ]
  },
  {
   "cell_type": "code",
   "execution_count": 7,
   "metadata": {},
   "outputs": [
    {
     "ename": "UndefVarError",
     "evalue": "UndefVarError: srand not defined",
     "output_type": "error",
     "traceback": [
      "UndefVarError: srand not defined",
      "",
      "Stacktrace:",
      " [1] top-level scope at In[7]:1"
     ]
    }
   ],
   "source": [
    "using Random\n",
    "Random.seed!(1)\n",
    "function wilkinson_poly_roots(n=100)\n",
    "    # original coefficients\n",
    "    coeff = root2coeff(Int128(1):20)\n",
    "    rts = Vector{Complex{Float64}}[]\n",
    "    # add perturbation\n",
    "    for i in 1:n\n",
    "        pert_coeff = coeff.*(1+rand(21)*1e-10)\n",
    "        push!(rts, poly_roots(pert_coeff))\n",
    "    end\n",
    "    rts\n",
    "end\n",
    "using Plots; gr()\n",
    "function plt_wilkinson_roots(rts)\n",
    "    # plot roots without perturbation\n",
    "    plt = scatter(1:20, zeros(20), color = :green, markersize = 5, legend=false)\n",
    "    for i in eachindex(rts)\n",
    "        # plot roots with perturbation\n",
    "        scatter!(plt, real.(rts[i]), imag.(rts[i]), color = :red, markersize = .5)\n",
    "    end\n",
    "    plt\n",
    "end\n",
    "wilkinson_poly_roots() |> plt_wilkinson_roots"
   ]
  }
 ],
 "metadata": {
  "kernelspec": {
   "display_name": "Julia 1.0.0",
   "language": "julia",
   "name": "julia-1.0"
  },
  "language_info": {
   "file_extension": ".jl",
   "mimetype": "application/julia",
   "name": "julia",
   "version": "1.0.0"
  }
 },
 "nbformat": 4,
 "nbformat_minor": 2
}
