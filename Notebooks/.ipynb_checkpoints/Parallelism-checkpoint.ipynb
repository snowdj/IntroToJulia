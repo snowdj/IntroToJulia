{
 "cells": [
  {
   "cell_type": "markdown",
   "metadata": {},
   "source": [
    "# Levels of Parallelism\n",
    "\n",
    "Julia offers 3 levels of a parallelism:\n",
    "\n",
    "- SIMD: Single-Instruction, Multiple Data\n",
    "  - Lets a single instruction calculate multiple things at the same time\n",
    "  - Ex: Multiple multiplications in one CPU instruction\n",
    "- Threads\n",
    "  - Shared Memory Parallelism\n",
    "  - Small overhead, most share the same memory (multicore processors)\n",
    "- Processes\n",
    "  - Overhead is much higher\n",
    "  - Can distribute work amongst multiple computers\n",
    "  \n",
    "In addition, Julia can be used with GPGPUs and Xeon Phis"
   ]
  },
  {
   "cell_type": "markdown",
   "metadata": {},
   "source": [
    "### Lowest Level: SIMD\n",
    "\n",
    "- SIMD parallelization is “processor-level parallelization”\n",
    "- It uses the processor's AVX (Advanced Vector Extensions)\n",
    "- The compute cores can process more than 1 number at a time!\n",
    "- Add @simd to the beginning of an inner loop\n",
    "- The values must be able to be re-ordered"
   ]
  },
  {
   "cell_type": "markdown",
   "metadata": {},
   "source": [
    "### Middle Level: Threads\n",
    "\n",
    "- Thread parallelization is shared-memory parallelization\n",
    "- Threads share the memory on the same computer\n",
    "- Use Threads.@thread at the beginning of a threadable loop"
   ]
  },
  {
   "cell_type": "markdown",
   "metadata": {},
   "source": [
    "### Highest Level: Processes (Distributed)\n",
    "\n",
    "- Task parallelization is a general form of parallelization\n",
    "- Much easier than MPI, though mostly the same capabilities\n",
    "- Can be used on multiple compute nodes on an HPC\n",
    "- Memory is not shared, items have to be distributed and passed\n",
    "- Either open julia with -p numberOfProcs or use addprocs(n)\n",
    "- One process is the control process, the others are workers\n",
    "- Use @parallel, pmap, etc. to distribute work to the workers"
   ]
  },
  {
   "cell_type": "markdown",
   "metadata": {},
   "source": [
    "### GPU Example\n",
    "\n",
    "http://www.stochasticlifestyle.com/julia-on-the-hpc-with-gpus/\n",
    "\n",
    "http://www.stochasticlifestyle.com/multiple-gpu-on-the-hpc-with-julia/\n",
    "\n",
    "### Xeon Phi Example\n",
    "\n",
    "http://www.stochasticlifestyle.com/interfacing-xeon-phi-via-julia/"
   ]
  }
 ],
 "metadata": {
  "kernelspec": {
   "display_name": "Julia 0.5.2",
   "language": "julia",
   "name": "julia-0.5"
  },
  "language_info": {
   "file_extension": ".jl",
   "mimetype": "application/julia",
   "name": "julia",
   "version": "0.5.2"
  }
 },
 "nbformat": 4,
 "nbformat_minor": 0
}
