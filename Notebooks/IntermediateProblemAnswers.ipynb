{
 "cells": [
  {
   "cell_type": "markdown",
   "metadata": {},
   "source": [
    "# Intermediate Problem Answers"
   ]
  },
  {
   "cell_type": "markdown",
   "metadata": {},
   "source": [
    "## MyRange and MyLinSpace Problem\n",
    "\n",
    "### Part 1"
   ]
  },
  {
   "cell_type": "code",
   "execution_count": 4,
   "metadata": {},
   "outputs": [
    {
     "data": {
      "text/plain": [
       "_MyRange (generic function with 1 method)"
      ]
     },
     "execution_count": 4,
     "metadata": {},
     "output_type": "execute_result"
    }
   ],
   "source": [
    "struct MyRange\n",
    "    start\n",
    "    step\n",
    "    stop\n",
    "end\n",
    "\n",
    "function _MyRange(a::MyRange,i::Int)\n",
    "    tmp = a.start + a.step*(i-1)\n",
    "    if tmp > a.stop\n",
    "        error(\"Index is out of bounds!\")\n",
    "    else\n",
    "        return tmp\n",
    "    end\n",
    "end"
   ]
  },
  {
   "cell_type": "code",
   "execution_count": 5,
   "metadata": {},
   "outputs": [
    {
     "data": {
      "text/plain": [
       "true"
      ]
     },
     "execution_count": 5,
     "metadata": {},
     "output_type": "execute_result"
    }
   ],
   "source": [
    "a = MyRange(1,2,20)\n",
    "_MyRange(a,5) == (1:2:20)[5]"
   ]
  },
  {
   "cell_type": "code",
   "execution_count": 6,
   "metadata": {},
   "outputs": [
    {
     "data": {
      "text/plain": [
       "9"
      ]
     },
     "execution_count": 6,
     "metadata": {},
     "output_type": "execute_result"
    }
   ],
   "source": [
    "Base.getindex(a::MyRange,i::Int) = _MyRange(a,i)\n",
    "a[5]"
   ]
  },
  {
   "cell_type": "markdown",
   "metadata": {},
   "source": [
    "### Part 2"
   ]
  },
  {
   "cell_type": "code",
   "execution_count": 7,
   "metadata": {},
   "outputs": [],
   "source": [
    "struct MyLinSpace\n",
    "    start\n",
    "    stop\n",
    "    n\n",
    "end\n",
    "\n",
    "function Base.getindex(a::MyLinSpace,i::Int)\n",
    "    dx = (a.stop-a.start)/a.n\n",
    "    a.start + dx*(i-1)\n",
    "end"
   ]
  },
  {
   "cell_type": "code",
   "execution_count": 8,
   "metadata": {},
   "outputs": [
    {
     "data": {
      "text/plain": [
       "1.1"
      ]
     },
     "execution_count": 8,
     "metadata": {},
     "output_type": "execute_result"
    }
   ],
   "source": [
    "l = MyLinSpace(1,2,50)\n",
    "l[6]"
   ]
  },
  {
   "cell_type": "code",
   "execution_count": 10,
   "metadata": {},
   "outputs": [
    {
     "data": {
      "text/plain": [
       "1.1020408163265305"
      ]
     },
     "execution_count": 10,
     "metadata": {},
     "output_type": "execute_result"
    }
   ],
   "source": [
    "range(1,stop=2,length=50)[6]"
   ]
  },
  {
   "cell_type": "markdown",
   "metadata": {},
   "source": [
    "### Part 3"
   ]
  },
  {
   "cell_type": "code",
   "execution_count": 11,
   "metadata": {},
   "outputs": [
    {
     "data": {
      "text/plain": [
       "1.2000000000000002"
      ]
     },
     "execution_count": 11,
     "metadata": {},
     "output_type": "execute_result"
    }
   ],
   "source": [
    "(a::MyRange)(x) = a.start + a.step*(x-1)\n",
    "a = MyRange(1,2,20)\n",
    "a(1.1)"
   ]
  },
  {
   "cell_type": "markdown",
   "metadata": {},
   "source": [
    "### Part 4"
   ]
  },
  {
   "cell_type": "code",
   "execution_count": 12,
   "metadata": {},
   "outputs": [
    {
     "data": {
      "text/plain": [
       "9 kg"
      ]
     },
     "execution_count": 12,
     "metadata": {},
     "output_type": "execute_result"
    }
   ],
   "source": [
    "using Unitful\n",
    "a = MyRange(1u\"kg\",2u\"kg\",20u\"kg\")\n",
    "a[5]"
   ]
  },
  {
   "cell_type": "markdown",
   "metadata": {},
   "source": [
    "## Operator Problem"
   ]
  },
  {
   "cell_type": "code",
   "execution_count": 19,
   "metadata": {},
   "outputs": [],
   "source": [
    "struct StrangMatrix end\n",
    "A = StrangMatrix()\n",
    "\n",
    "using LinearAlgebra\n",
    "function LinearAlgebra.mul!(C,A::StrangMatrix,B::AbstractVector)\n",
    "    for i in 2:length(B)-1\n",
    "        C[i] = B[i-1] - 2B[i] + B[i+1]\n",
    "    end\n",
    "    C[1] = -2B[1] + B[2]\n",
    "    C[end] = B[end-1] - 2B[end]\n",
    "    C\n",
    "end\n",
    "\n",
    "Base.:*(A::StrangMatrix,B::AbstractVector) = (C = similar(B); mul!(C,A,B))"
   ]
  },
  {
   "cell_type": "code",
   "execution_count": 20,
   "metadata": {},
   "outputs": [
    {
     "data": {
      "text/plain": [
       "10-element Array{Float64,1}:\n",
       " -1.0\n",
       "  0.0\n",
       "  0.0\n",
       "  0.0\n",
       "  0.0\n",
       "  0.0\n",
       "  0.0\n",
       "  0.0\n",
       "  0.0\n",
       " -1.0"
      ]
     },
     "execution_count": 20,
     "metadata": {},
     "output_type": "execute_result"
    }
   ],
   "source": [
    "A*ones(10)"
   ]
  },
  {
   "cell_type": "code",
   "execution_count": 21,
   "metadata": {},
   "outputs": [],
   "source": [
    "struct SizedStrangMatrix\n",
    "    size\n",
    "end\n",
    "\n",
    "Base.eltype(A::SizedStrangMatrix) = Float64\n",
    "Base.size(A::SizedStrangMatrix) = A.size\n",
    "Base.size(A::SizedStrangMatrix,i::Int) = A.size[i]"
   ]
  },
  {
   "cell_type": "code",
   "execution_count": 22,
   "metadata": {},
   "outputs": [
    {
     "data": {
      "text/plain": [
       "63-element Array{Float64,1}:\n",
       "  0.0                \n",
       "  0.09983341664682815\n",
       "  0.19866933079506122\n",
       "  0.2955202066613396 \n",
       "  0.3894183423086505 \n",
       "  0.479425538604203  \n",
       "  0.5646424733950355 \n",
       "  0.6442176872376911 \n",
       "  0.7173560908995228 \n",
       "  0.7833269096274834 \n",
       "  0.8414709848078965 \n",
       "  0.8912073600614354 \n",
       "  0.9320390859672264 \n",
       "  ⋮                  \n",
       " -0.9258146823277321 \n",
       " -0.8834546557201531 \n",
       " -0.8322674422239008 \n",
       " -0.7727644875559871 \n",
       " -0.7055403255703919 \n",
       " -0.6312666378723208 \n",
       " -0.5506855425976376 \n",
       " -0.4646021794137566 \n",
       " -0.373876664830236  \n",
       " -0.27941549819892586\n",
       " -0.18216250427209502\n",
       " -0.0830894028174964 "
      ]
     },
     "execution_count": 22,
     "metadata": {},
     "output_type": "execute_result"
    }
   ],
   "source": [
    "b = sin.(0:0.1:2π)"
   ]
  },
  {
   "cell_type": "code",
   "execution_count": 24,
   "metadata": {},
   "outputs": [],
   "source": [
    "A = SizedStrangMatrix((length(b),length(b)))\n",
    "\n",
    "function LinearAlgebra.mul!(C,A::SizedStrangMatrix,B)\n",
    "    for i in 2:length(B)-1\n",
    "        C[i] = B[i-1] - 2B[i] + B[i+1]\n",
    "    end\n",
    "    C[1] = -2B[1] + B[2]\n",
    "    C[end] = B[end-1] - 2B[end]\n",
    "    C\n",
    "end\n",
    "Base.:*(A::SizedStrangMatrix,B::AbstractVector) = (C = similar(B); mul!(C,A,B))"
   ]
  },
  {
   "cell_type": "code",
   "execution_count": 29,
   "metadata": {},
   "outputs": [
    {
     "data": {
      "text/plain": [
       "63-element Array{Float64,1}:\n",
       "   -9.755738784527166\n",
       "  -19.511766690859723\n",
       "  -29.168509953717926\n",
       "  -38.62733151652308 \n",
       "  -47.79172939964289 \n",
       "  -56.567920000176755\n",
       "  -64.86624757504093 \n",
       "  -72.60180867498484 \n",
       "  -79.69549984767762 \n",
       "  -86.07440664159829 \n",
       "  -91.67293002909796 \n",
       "  -96.43316292771152 \n",
       " -100.30568365156476 \n",
       "    ⋮                \n",
       "   92.73105600644514 \n",
       "   88.6304815198612  \n",
       "   83.64512976504756 \n",
       "   77.82628337498842 \n",
       "   71.23343662444809 \n",
       "   63.93401241944272 \n",
       "   56.00167853409517 \n",
       "   47.51925322977693 \n",
       "   38.572331686261165\n",
       "   29.25162537589525 \n",
       "   19.65105899819377 \n",
       "    9.867868177542748"
      ]
     },
     "execution_count": 29,
     "metadata": {},
     "output_type": "execute_result"
    }
   ],
   "source": [
    "using IterativeSolvers\n",
    "x = gmres(A,b,tol=1e-14)"
   ]
  },
  {
   "cell_type": "code",
   "execution_count": 30,
   "metadata": {},
   "outputs": [
    {
     "data": {
      "text/plain": [
       "63-element Array{Float64,1}:\n",
       " -0.00028912180539109045\n",
       " -0.0005487731724762024 \n",
       " -0.0007476307420101191 \n",
       " -0.0010965269760021545 \n",
       " -0.0012110597227052433 \n",
       " -0.0015625129345115951 \n",
       " -0.0018759984747689362 \n",
       " -0.00234775998656922   \n",
       " -0.0025717121273999277 \n",
       " -0.002943503206488285  \n",
       " -0.0031804959217944795 \n",
       " -0.00349518530111137   \n",
       " -0.00378335609624314   \n",
       "  ⋮                     \n",
       " -0.001396616777037063  \n",
       " -0.0013226125095587848 \n",
       " -0.001227193021585582  \n",
       " -0.0012358729252088807 \n",
       " -0.0010371288946419144 \n",
       " -0.0016430424698667956 \n",
       "  0.0005941236269499939 \n",
       "  0.00010594021623389072\n",
       "  9.189798008585326e-5  \n",
       " -0.0004445691366434801 \n",
       " -0.000461938677442153  \n",
       " -0.001587954074231443  "
      ]
     },
     "execution_count": 30,
     "metadata": {},
     "output_type": "execute_result"
    }
   ],
   "source": [
    "A*x - b"
   ]
  },
  {
   "cell_type": "markdown",
   "metadata": {},
   "source": [
    "## Regression Problem"
   ]
  },
  {
   "cell_type": "code",
   "execution_count": 33,
   "metadata": {},
   "outputs": [
    {
     "name": "stdout",
     "output_type": "stream",
     "text": [
      "[0.400269, 0.834389, 0.0869948, -0.00661511]\n"
     ]
    },
    {
     "name": "stderr",
     "output_type": "stream",
     "text": [
      "┌ Info: Precompiling MultivariateStats [6f286f6a-111f-5878-ab1e-185364afe411]\n",
      "└ @ Base loading.jl:1186\n",
      "ERROR: LoadError: UndefVarError: LinAlg not defined\n",
      "Stacktrace:\n",
      " [1] include at ./boot.jl:317 [inlined]\n",
      " [2] include_relative(::Module, ::String) at ./loading.jl:1038\n",
      " [3] include(::Module, ::String) at ./sysimg.jl:29\n",
      " [4] top-level scope at none:2\n",
      " [5] eval at ./boot.jl:319 [inlined]\n",
      " [6] eval(::Expr) at ./client.jl:389\n",
      " [7] top-level scope at ./none:3\n",
      "in expression starting at /home/chrisrackauckas/.julia/packages/MultivariateStats/wGpiN/src/MultivariateStats.jl:8\n"
     ]
    },
    {
     "ename": "ErrorException",
     "evalue": "Failed to precompile MultivariateStats [6f286f6a-111f-5878-ab1e-185364afe411] to /home/chrisrackauckas/.julia/compiled/v1.0/MultivariateStats/l7I74.ji.",
     "output_type": "error",
     "traceback": [
      "Failed to precompile MultivariateStats [6f286f6a-111f-5878-ab1e-185364afe411] to /home/chrisrackauckas/.julia/compiled/v1.0/MultivariateStats/l7I74.ji.",
      "",
      "Stacktrace:",
      " [1] error(::String) at ./error.jl:33",
      " [2] macro expansion at ./logging.jl:313 [inlined]",
      " [3] compilecache(::Base.PkgId, ::String) at ./loading.jl:1184",
      " [4] macro expansion at ./logging.jl:311 [inlined]",
      " [5] _require(::Base.PkgId) at ./loading.jl:941",
      " [6] require(::Base.PkgId) at ./loading.jl:852",
      " [7] macro expansion at ./logging.jl:311 [inlined]",
      " [8] require(::Module, ::Symbol) at ./loading.jl:834",
      " [9] top-level scope at In[33]:10"
     ]
    }
   ],
   "source": [
    "#### Prepare Data\n",
    "\n",
    "X = rand(1000, 3)               # feature matrix\n",
    "a0 = rand(3)                    # ground truths\n",
    "y = X * a0 + 0.1 * randn(1000);  # generate response\n",
    "\n",
    "X2 = hcat(X,ones(1000))\n",
    "println(X2\\y)\n",
    "\n",
    "using MultivariateStats\n",
    "println(llsq(X,y))\n",
    "\n",
    "using DataFrames, GLM\n",
    "data = DataFrame(X1=X[:,1], X2=X[:,2], X3=X[:,3],Y=y)\n",
    "OLS = lm(@formula(Y ~ X1 + X2 + X3), data)\n",
    "\n",
    "\n",
    "X = rand(100);\n",
    "y = 2X  + 0.1 * randn(100);\n",
    "\n",
    "using Plots\n",
    "b = X\\y\n",
    "println(b)\n",
    "gr()\n",
    "scatter(X,y)\n",
    "Plots.abline!(b[1],0.0, lw=3) # Slope,Intercept"
   ]
  },
  {
   "cell_type": "markdown",
   "metadata": {},
   "source": [
    "## Type Hierarchy Problem"
   ]
  },
  {
   "cell_type": "code",
   "execution_count": 34,
   "metadata": {},
   "outputs": [
    {
     "data": {
      "text/plain": [
       "person_info (generic function with 2 methods)"
      ]
     },
     "execution_count": 34,
     "metadata": {},
     "output_type": "execute_result"
    }
   ],
   "source": [
    "abstract type AbstractPerson end\n",
    "abstract type AbstractStudent <: AbstractPerson end\n",
    "\n",
    "struct Person <: AbstractPerson\n",
    "    name\n",
    "end\n",
    "\n",
    "struct Student <: AbstractStudent\n",
    "    name\n",
    "    grade\n",
    "end\n",
    "\n",
    "struct GraduateStudent <: AbstractStudent\n",
    "    name\n",
    "    grade\n",
    "end\n",
    "\n",
    "person_info(p::AbstractPerson) = println(p.name)\n",
    "person_info(s::AbstractStudent) = (println(s.name); println(s.grade))"
   ]
  },
  {
   "cell_type": "code",
   "execution_count": 35,
   "metadata": {},
   "outputs": [
    {
     "name": "stdout",
     "output_type": "stream",
     "text": [
      "Bob\n"
     ]
    }
   ],
   "source": [
    "person_info(Person(\"Bob\"))"
   ]
  },
  {
   "cell_type": "code",
   "execution_count": 36,
   "metadata": {},
   "outputs": [
    {
     "name": "stdout",
     "output_type": "stream",
     "text": [
      "Bob\n",
      "2\n"
     ]
    }
   ],
   "source": [
    "person_info(Student(\"Bob\",2))"
   ]
  },
  {
   "cell_type": "code",
   "execution_count": 37,
   "metadata": {},
   "outputs": [
    {
     "name": "stdout",
     "output_type": "stream",
     "text": [
      "Bob\n",
      "2\n"
     ]
    }
   ],
   "source": [
    "person_info(GraduateStudent(\"Bob\",2))"
   ]
  },
  {
   "cell_type": "markdown",
   "metadata": {},
   "source": [
    "## Distribution Dispatch Problem\n",
    "\n",
    "This is from Josh Day's talk: https://www.youtube.com/watch?v=EwcTNzpQ6Sc\n",
    "\n",
    "Solution is from: https://github.com/joshday/Talks/blob/master/SLG2016_IntroToJulia/Slides.ipynb"
   ]
  },
  {
   "cell_type": "code",
   "execution_count": 39,
   "metadata": {
    "collapsed": true
   },
   "outputs": [
    {
     "name": "stdout",
     "output_type": "stream",
     "text": [
      "myquantile(dist, 0.75) = 6.274430698436519\n",
      "quantile(dist, 0.75) = 6.2744306984446885\n",
      "\n",
      "myquantile(dist, 0.75) = 0.6744897501960708\n",
      "quantile(dist, 0.75) = 0.6744897501960818\n",
      "\n",
      "myquantile(dist, 0.75) = 0.45418056477357555\n",
      "quantile(dist, 0.75) = 0.4541805647736157\n",
      "\n"
     ]
    }
   ],
   "source": [
    "using Distributions\n",
    "function myquantile(d::UnivariateDistribution, q::Number)\n",
    "    θ = mean(d)\n",
    "    tol = Inf\n",
    "    while tol > 1e-5\n",
    "        θold = θ\n",
    "        θ = θ - (cdf(d, θ) - q) / pdf(d, θ)\n",
    "        tol = abs(θold - θ)\n",
    "    end\n",
    "    θ\n",
    "end\n",
    "\n",
    "for dist in [Gamma(5, 1), Normal(0, 1), Beta(2, 4)]\n",
    "    @show myquantile(dist, .75)\n",
    "    @show quantile(dist, .75)\n",
    "    println()\n",
    "end"
   ]
  }
 ],
 "metadata": {
  "anaconda-cloud": {},
  "kernelspec": {
   "display_name": "Julia 1.0.0",
   "language": "julia",
   "name": "julia-1.0"
  },
  "language_info": {
   "file_extension": ".jl",
   "mimetype": "application/julia",
   "name": "julia",
   "version": "1.0.0"
  }
 },
 "nbformat": 4,
 "nbformat_minor": 2
}
