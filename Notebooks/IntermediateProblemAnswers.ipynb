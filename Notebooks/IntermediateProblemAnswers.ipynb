{
 "cells": [
  {
   "cell_type": "markdown",
   "metadata": {},
   "source": [
    "# Intermediate Problem Answers"
   ]
  },
  {
   "cell_type": "markdown",
   "metadata": {},
   "source": [
    "## MyRange and MyLinSpace Problem\n",
    "\n",
    "### Part 1"
   ]
  },
  {
   "cell_type": "code",
   "execution_count": 8,
   "metadata": {},
   "outputs": [
    {
     "data": {
      "text/plain": [
       "_MyRange (generic function with 1 method)"
      ]
     },
     "execution_count": 8,
     "metadata": {},
     "output_type": "execute_result"
    }
   ],
   "source": [
    "struct MyRange\n",
    "    start\n",
    "    step\n",
    "    stop\n",
    "end\n",
    "\n",
    "function _MyRange(a::MyRange,i::Int)\n",
    "    tmp = a.start + a.step*(i-1)\n",
    "    if tmp > a.stop\n",
    "        error(\"Index is out of bounds!\")\n",
    "    else\n",
    "        return tmp\n",
    "    end\n",
    "end"
   ]
  },
  {
   "cell_type": "code",
   "execution_count": 9,
   "metadata": {},
   "outputs": [
    {
     "data": {
      "text/plain": [
       "true"
      ]
     },
     "execution_count": 9,
     "metadata": {},
     "output_type": "execute_result"
    }
   ],
   "source": [
    "a = MyRange(1,2,20)\n",
    "_MyRange(a,5) == (1:2:20)[5]"
   ]
  },
  {
   "cell_type": "code",
   "execution_count": 12,
   "metadata": {},
   "outputs": [
    {
     "data": {
      "text/plain": [
       "9"
      ]
     },
     "execution_count": 12,
     "metadata": {},
     "output_type": "execute_result"
    }
   ],
   "source": [
    "Base.getindex(a::MyRange,i::Int) = _MyRange(a,i)\n",
    "a[5]"
   ]
  },
  {
   "cell_type": "markdown",
   "metadata": {},
   "source": [
    "### Part 2"
   ]
  },
  {
   "cell_type": "code",
   "execution_count": 13,
   "metadata": {},
   "outputs": [
    {
     "name": "stdout",
     "output_type": "stream",
     "text": [
      "search: \u001b[1ml\u001b[22m\u001b[1mi\u001b[22m\u001b[1mn\u001b[22m\u001b[1ms\u001b[22m\u001b[1mp\u001b[22m\u001b[1ma\u001b[22m\u001b[1mc\u001b[22m\u001b[1me\u001b[22m \u001b[1mL\u001b[22m\u001b[1mi\u001b[22m\u001b[1mn\u001b[22m\u001b[1mS\u001b[22m\u001b[1mp\u001b[22m\u001b[1ma\u001b[22m\u001b[1mc\u001b[22m\u001b[1me\u001b[22m\n",
      "\n"
     ]
    },
    {
     "data": {
      "text/markdown": [
       "```\n",
       "linspace(start, stop, n=50)\n",
       "```\n",
       "\n",
       "Construct a range of `n` linearly spaced elements from `start` to `stop`.\n",
       "\n",
       "```jldoctest\n",
       "julia> linspace(1.3,2.9,9)\n",
       "1.3:0.2:2.9\n",
       "```\n"
      ],
      "text/plain": [
       "```\n",
       "linspace(start, stop, n=50)\n",
       "```\n",
       "\n",
       "Construct a range of `n` linearly spaced elements from `start` to `stop`.\n",
       "\n",
       "```jldoctest\n",
       "julia> linspace(1.3,2.9,9)\n",
       "1.3:0.2:2.9\n",
       "```\n"
      ]
     },
     "execution_count": 13,
     "metadata": {},
     "output_type": "execute_result"
    }
   ],
   "source": [
    "?linspace"
   ]
  },
  {
   "cell_type": "code",
   "execution_count": 25,
   "metadata": {},
   "outputs": [],
   "source": [
    "struct MyLinSpace\n",
    "    start\n",
    "    stop\n",
    "    n\n",
    "end\n",
    "\n",
    "function Base.getindex(a::MyLinSpace,i::Int)\n",
    "    dx = (a.stop-a.start)/a.n\n",
    "    a.start + dx*(i-1)\n",
    "end"
   ]
  },
  {
   "cell_type": "code",
   "execution_count": 26,
   "metadata": {},
   "outputs": [
    {
     "data": {
      "text/plain": [
       "1.1"
      ]
     },
     "execution_count": 26,
     "metadata": {},
     "output_type": "execute_result"
    }
   ],
   "source": [
    "l = MyLinSpace(1,2,50)\n",
    "l[6]"
   ]
  },
  {
   "cell_type": "code",
   "execution_count": 27,
   "metadata": {},
   "outputs": [
    {
     "data": {
      "text/plain": [
       "1.1020408163265305"
      ]
     },
     "execution_count": 27,
     "metadata": {},
     "output_type": "execute_result"
    }
   ],
   "source": [
    "linspace(1,2,50)[6]"
   ]
  },
  {
   "cell_type": "markdown",
   "metadata": {},
   "source": [
    "### Part 3"
   ]
  },
  {
   "cell_type": "code",
   "execution_count": 29,
   "metadata": {},
   "outputs": [
    {
     "data": {
      "text/plain": [
       "1.2000000000000002"
      ]
     },
     "execution_count": 29,
     "metadata": {},
     "output_type": "execute_result"
    }
   ],
   "source": [
    "(a::MyRange)(x) = a.start + a.step*(x-1)\n",
    "a = MyRange(1,2,20)\n",
    "a(1.1)"
   ]
  },
  {
   "cell_type": "markdown",
   "metadata": {},
   "source": [
    "### Part 4"
   ]
  },
  {
   "cell_type": "code",
   "execution_count": 32,
   "metadata": {},
   "outputs": [
    {
     "data": {
      "text/plain": [
       "9 kg"
      ]
     },
     "execution_count": 32,
     "metadata": {},
     "output_type": "execute_result"
    },
    {
     "name": "stdout",
     "output_type": "stream",
     "text": [
      "search: \u001b[1me\u001b[22m\u001b[1mn\u001b[22m\u001b[1md\u001b[22m \u001b[1me\u001b[22m\u001b[1mn\u001b[22m\u001b[1md\u001b[22mof \u001b[1me\u001b[22m\u001b[1mn\u001b[22m\u001b[1md\u001b[22mswith \u001b[1mE\u001b[22m\u001b[1mN\u001b[22m\u001b[1mD\u001b[22mIAN_BOM s\u001b[1me\u001b[22m\u001b[1mn\u001b[22m\u001b[1md\u001b[22m app\u001b[1me\u001b[22m\u001b[1mn\u001b[22m\u001b[1md\u001b[22m! Quot\u001b[1me\u001b[22m\u001b[1mN\u001b[22mo\u001b[1md\u001b[22me Rang\u001b[1me\u001b[22mI\u001b[1mn\u001b[22m\u001b[1md\u001b[22mex g\u001b[1me\u001b[22mti\u001b[1mn\u001b[22m\u001b[1md\u001b[22mex\n",
      "\n"
     ]
    }
   ],
   "source": [
    "using Unitful\n",
    "a = MyRange(1u\"kg\",2u\"kg\",20u\"kg\")\n",
    "a[5]"
   ]
  },
  {
   "cell_type": "markdown",
   "metadata": {},
   "source": [
    "## Operator Problem"
   ]
  },
  {
   "cell_type": "code",
   "execution_count": 56,
   "metadata": {},
   "outputs": [],
   "source": [
    "struct StrangMatrix end\n",
    "A = StrangMatrix()\n",
    "\n",
    "function Base.A_mul_B!(C,A::StrangMatrix,B::AbstractVector)\n",
    "    for i in 2:length(B)-1\n",
    "        C[i] = B[i-1] - 2B[i] + B[i+1]\n",
    "    end\n",
    "    C[1] = -2B[1] + B[2]\n",
    "    C[end] = B[end-1] - 2B[end]\n",
    "    C\n",
    "end\n",
    "\n",
    "Base.:*(A::StrangMatrix,B::AbstractVector) = (C = similar(B); A_mul_B!(C,A,B))"
   ]
  },
  {
   "cell_type": "code",
   "execution_count": 38,
   "metadata": {},
   "outputs": [
    {
     "data": {
      "text/plain": [
       "10-element Array{Float64,1}:\n",
       " -1.0\n",
       "  0.0\n",
       "  0.0\n",
       "  0.0\n",
       "  0.0\n",
       "  0.0\n",
       "  0.0\n",
       "  0.0\n",
       "  0.0\n",
       " -1.0"
      ]
     },
     "execution_count": 38,
     "metadata": {},
     "output_type": "execute_result"
    }
   ],
   "source": [
    "A*ones(10)"
   ]
  },
  {
   "cell_type": "code",
   "execution_count": 64,
   "metadata": {},
   "outputs": [],
   "source": [
    "struct SizedStrangMatrix\n",
    "    size\n",
    "end\n",
    "\n",
    "Base.eltype(A::SizedStrangMatrix) = Float64\n",
    "Base.size(A::SizedStrangMatrix) = A.size\n",
    "Base.size(A::SizedStrangMatrix,i::Int) = A.size[i]"
   ]
  },
  {
   "cell_type": "code",
   "execution_count": 65,
   "metadata": {},
   "outputs": [
    {
     "data": {
      "text/plain": [
       "63-element Array{Float64,1}:\n",
       "  0.0      \n",
       "  0.0998334\n",
       "  0.198669 \n",
       "  0.29552  \n",
       "  0.389418 \n",
       "  0.479426 \n",
       "  0.564642 \n",
       "  0.644218 \n",
       "  0.717356 \n",
       "  0.783327 \n",
       "  0.841471 \n",
       "  0.891207 \n",
       "  0.932039 \n",
       "  ⋮        \n",
       " -0.925815 \n",
       " -0.883455 \n",
       " -0.832267 \n",
       " -0.772764 \n",
       " -0.70554  \n",
       " -0.631267 \n",
       " -0.550686 \n",
       " -0.464602 \n",
       " -0.373877 \n",
       " -0.279415 \n",
       " -0.182163 \n",
       " -0.0830894"
      ]
     },
     "execution_count": 65,
     "metadata": {},
     "output_type": "execute_result"
    }
   ],
   "source": [
    "b = sin.(0:0.1:2π)"
   ]
  },
  {
   "cell_type": "code",
   "execution_count": 66,
   "metadata": {},
   "outputs": [],
   "source": [
    "A = SizedStrangMatrix((length(b),length(b)))\n",
    "\n",
    "function Base.A_mul_B!(C,A::SizedStrangMatrix,B)\n",
    "    for i in 2:length(B)-1\n",
    "        C[i] = B[i-1] - 2B[i] + B[i+1]\n",
    "    end\n",
    "    C[1] = -2B[1] + B[2]\n",
    "    C[end] = B[end-1] - 2B[end]\n",
    "    C\n",
    "end\n",
    "Base.:*(A::SizedStrangMatrix,B::AbstractVector) = (C = similar(B); A_mul_B!(C,A,B))"
   ]
  },
  {
   "cell_type": "code",
   "execution_count": 73,
   "metadata": {},
   "outputs": [
    {
     "data": {
      "text/plain": [
       "63-element Array{Float64,1}:\n",
       "   -9.75574\n",
       "  -19.5118 \n",
       "  -29.1685 \n",
       "  -38.6273 \n",
       "  -47.7917 \n",
       "  -56.5679 \n",
       "  -64.8662 \n",
       "  -72.6018 \n",
       "  -79.6955 \n",
       "  -86.0744 \n",
       "  -91.6729 \n",
       "  -96.4332 \n",
       " -100.306  \n",
       "    ⋮      \n",
       "   92.7311 \n",
       "   88.6305 \n",
       "   83.6451 \n",
       "   77.8263 \n",
       "   71.2334 \n",
       "   63.934  \n",
       "   56.0017 \n",
       "   47.5193 \n",
       "   38.5723 \n",
       "   29.2516 \n",
       "   19.6511 \n",
       "    9.86787"
      ]
     },
     "execution_count": 73,
     "metadata": {},
     "output_type": "execute_result"
    }
   ],
   "source": [
    "using IterativeSolvers\n",
    "x = gmres(A,b,tol=1e-14)"
   ]
  },
  {
   "cell_type": "code",
   "execution_count": 75,
   "metadata": {},
   "outputs": [
    {
     "data": {
      "text/plain": [
       "63-element Array{Float64,1}:\n",
       " -0.000289122\n",
       " -0.000548773\n",
       " -0.000747631\n",
       " -0.00109653 \n",
       " -0.00121106 \n",
       " -0.00156251 \n",
       " -0.001876   \n",
       " -0.00234776 \n",
       " -0.00257171 \n",
       " -0.0029435  \n",
       " -0.0031805  \n",
       " -0.00349519 \n",
       " -0.00378336 \n",
       "  ⋮          \n",
       " -0.00139662 \n",
       " -0.00132261 \n",
       " -0.00122719 \n",
       " -0.00123587 \n",
       " -0.00103713 \n",
       " -0.00164304 \n",
       "  0.000594124\n",
       "  0.00010594 \n",
       "  9.1898e-5  \n",
       " -0.000444569\n",
       " -0.000461939\n",
       " -0.00158795 "
      ]
     },
     "execution_count": 75,
     "metadata": {},
     "output_type": "execute_result"
    }
   ],
   "source": [
    "A*x - b"
   ]
  },
  {
   "cell_type": "markdown",
   "metadata": {},
   "source": [
    "## Regression Problem"
   ]
  },
  {
   "cell_type": "code",
   "execution_count": null,
   "metadata": {},
   "outputs": [],
   "source": [
    "#### Prepare Data\n",
    "\n",
    "X = rand(1000, 3)               # feature matrix\n",
    "a0 = rand(3)                    # ground truths\n",
    "y = X * a0 + 0.1 * randn(1000);  # generate response\n",
    "\n",
    "X2 = hcat(X,ones(1000))\n",
    "println(X2\\y)\n",
    "\n",
    "using MultivariateStats\n",
    "println(llsq(X,y))\n",
    "\n",
    "using DataFrames, GLM\n",
    "data = DataFrame(X1=X[:,1], X2=X[:,2], X3=X[:,3],Y=y)\n",
    "OLS = lm(@formula(Y ~ X1 + X2 + X3), data)\n",
    "\n",
    "\n",
    "X = rand(100);\n",
    "y = 2X  + 0.1 * randn(100);\n",
    "\n",
    "using Plots\n",
    "b = X\\y\n",
    "println(b)\n",
    "gr()\n",
    "scatter(X,y)\n",
    "Plots.abline!(b[1],0.0, lw=3) # Slope,Intercept"
   ]
  },
  {
   "cell_type": "markdown",
   "metadata": {},
   "source": [
    "## Type Hierarchy Problem"
   ]
  },
  {
   "cell_type": "code",
   "execution_count": 80,
   "metadata": {},
   "outputs": [
    {
     "data": {
      "text/plain": [
       "person_info (generic function with 2 methods)"
      ]
     },
     "execution_count": 80,
     "metadata": {},
     "output_type": "execute_result"
    }
   ],
   "source": [
    "abstract type AbstractPerson end\n",
    "abstract type AbstractStudent <: AbstractPerson end\n",
    "\n",
    "struct Person <: AbstractPerson\n",
    "    name\n",
    "end\n",
    "\n",
    "struct Student <: AbstractStudent\n",
    "    name\n",
    "    grade\n",
    "end\n",
    "\n",
    "struct GraduateStudent <: AbstractStudent\n",
    "    name\n",
    "    grade\n",
    "end\n",
    "\n",
    "person_info(p::AbstractPerson) = println(p.name)\n",
    "person_info(s::AbstractStudent) = (println(s.name); println(s.grade))"
   ]
  },
  {
   "cell_type": "code",
   "execution_count": 78,
   "metadata": {},
   "outputs": [
    {
     "name": "stdout",
     "output_type": "stream",
     "text": [
      "Bob\n"
     ]
    }
   ],
   "source": [
    "person_info(Person(\"Bob\"))"
   ]
  },
  {
   "cell_type": "code",
   "execution_count": 81,
   "metadata": {},
   "outputs": [
    {
     "name": "stdout",
     "output_type": "stream",
     "text": [
      "Bob\n",
      "2\n"
     ]
    }
   ],
   "source": [
    "person_info(Student(\"Bob\",2))"
   ]
  },
  {
   "cell_type": "code",
   "execution_count": 82,
   "metadata": {},
   "outputs": [
    {
     "name": "stdout",
     "output_type": "stream",
     "text": [
      "Bob\n",
      "2\n"
     ]
    }
   ],
   "source": [
    "person_info(GraduateStudent(\"Bob\",2))"
   ]
  },
  {
   "cell_type": "markdown",
   "metadata": {},
   "source": [
    "## Distribution Dispatch Problem\n",
    "\n",
    "This is from Josh Day's talk: https://www.youtube.com/watch?v=EwcTNzpQ6Sc\n",
    "\n",
    "Solution is from: https://github.com/joshday/Talks/blob/master/SLG2016_IntroToJulia/Slides.ipynb"
   ]
  },
  {
   "cell_type": "code",
   "execution_count": null,
   "metadata": {
    "collapsed": true
   },
   "outputs": [],
   "source": [
    "function myquantile(d::UnivariateDistribution, q::Number)\n",
    "    θ = mean(d)\n",
    "    tol = Inf\n",
    "    while tol > 1e-5\n",
    "        θold = θ\n",
    "        θ = θ - (cdf(d, θ) - q) / pdf(d, θ)\n",
    "        tol = abs(θold - θ)\n",
    "    end\n",
    "    θ\n",
    "end\n",
    "\n",
    "for dist in [Gamma(5, 1), Normal(0, 1), Beta(2, 4)]\n",
    "    @show myquantile(dist, .75)\n",
    "    @show quantile(dist, .75)\n",
    "    println()\n",
    "end"
   ]
  }
 ],
 "metadata": {
  "anaconda-cloud": {},
  "kernelspec": {
   "display_name": "Julia 0.6.2",
   "language": "julia",
   "name": "julia-0.6"
  },
  "language_info": {
   "file_extension": ".jl",
   "mimetype": "application/julia",
   "name": "julia",
   "version": "0.6.2"
  }
 },
 "nbformat": 4,
 "nbformat_minor": 1
}
