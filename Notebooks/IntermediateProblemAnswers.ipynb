{
 "cells": [
  {
   "cell_type": "markdown",
   "metadata": {},
   "source": [
    "## Metaprogramming Project"
   ]
  },
  {
   "cell_type": "code",
   "execution_count": 1,
   "metadata": {
    "collapsed": false
   },
   "outputs": [
    {
     "data": {
      "text/plain": [
       "4-element Array{Float64,1}:\n",
       "  0.153788\n",
       "  0.742984\n",
       " -0.268836\n",
       "  0.320996"
      ]
     },
     "execution_count": 1,
     "metadata": {},
     "output_type": "execute_result"
    }
   ],
   "source": [
    "macro ~(y,ex)\n",
    "  new_ex = Meta.quot(ex)\n",
    "  quote\n",
    "    inner_ex = $(esc(new_ex))\n",
    "    data_name = Symbol(string(inner_ex.args[end])[1])\n",
    "    eval_ex = Expr(:(=),:data,data_name)\n",
    "    eval(Main,eval_ex)\n",
    "    new_X = Matrix{Float64}(size(data,1),length(inner_ex.args)-1)\n",
    "    cur_spot = 0\n",
    "    for i in 2:length(inner_ex.args)\n",
    "      if inner_ex.args[i] == 1\n",
    "        new_X[:,i-1] = ones(size(data,1))\n",
    "      else\n",
    "        col = parse(Int,string(string(inner_ex.args[i])[2]))\n",
    "        new_X[:,i-1] = data[:,col]\n",
    "      end\n",
    "    end\n",
    "    $(esc(y)),new_X\n",
    "  end\n",
    "end\n",
    "\n",
    "y = rand(10)\n",
    "X = rand(10,4)\n",
    "y~1+X1+X2+X4\n",
    "\n",
    "function solve_least_squares(y,X)\n",
    "  X\\y\n",
    "end\n",
    "solve_least_squares(tup::Tuple) = solve_least_squares(tup...)\n",
    "solve_least_squares(y~1+X1+X2+X4)"
   ]
  },
  {
   "cell_type": "markdown",
   "metadata": {},
   "source": [
    "## Distribution Dispatch Problem\n",
    "\n",
    "This is from Josh Day's talk: https://www.youtube.com/watch?v=EwcTNzpQ6Sc\n",
    "\n",
    "Solution is from: https://github.com/joshday/Talks/blob/master/SLG2016_IntroToJulia/Slides.ipynb"
   ]
  },
  {
   "cell_type": "code",
   "execution_count": null,
   "metadata": {
    "collapsed": true
   },
   "outputs": [],
   "source": [
    "function myquantile(d::UnivariateDistribution, q::Number)\n",
    "    θ = mean(d)\n",
    "    tol = Inf\n",
    "    while tol > 1e-5\n",
    "        θold = θ\n",
    "        θ = θ - (cdf(d, θ) - q) / pdf(d, θ)\n",
    "        tol = abs(θold - θ)\n",
    "    end\n",
    "    θ\n",
    "end\n",
    "\n",
    "for dist in [Gamma(5, 1), Normal(0, 1), Beta(2, 4)]\n",
    "    @show myquantile(dist, .75)\n",
    "    @show quantile(dist, .75)\n",
    "    println()\n",
    "end"
   ]
  }
 ],
 "metadata": {
  "anaconda-cloud": {},
  "kernelspec": {
   "display_name": "Julia 0.5.2",
   "language": "julia",
   "name": "julia-0.5"
  },
  "language_info": {
   "file_extension": ".jl",
   "mimetype": "application/julia",
   "name": "julia",
   "version": "0.5.2"
  }
 },
 "nbformat": 4,
 "nbformat_minor": 1
}
