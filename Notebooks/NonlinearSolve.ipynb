{
 "cells": [
  {
   "cell_type": "markdown",
   "metadata": {},
   "source": [
    "## Roots.jl and NLsolve.jl\n",
    "\n",
    "Roots.jl and NLSolve.jl are two libraries for root finding in Julia. Roots.jl is for univariate problems and NLsolve.jl is for multivariate problems. NLsolve.jl uses the autodifferentiation libraries and Optim.jl to improve its calculations.\n",
    "\n",
    "### Problem 1\n",
    "\n",
    "Use Roots.jl to solve [the Kepler equation](https://github.com/JuliaMath/Roots.jl#usage-examples):\n",
    "\n",
    "$$ f(x) = 10 - x + e \\sin(x) $$\n",
    "\n",
    "### Problem 2\n",
    "\n",
    "Use NLsolve.jl to solve for the roots of the following equation:\n",
    "\n",
    "$$\\begin{align}\n",
    "f_1(x_1,x_2,x_3) &= x_1 + x_2 + x_3^2 - 12 \\\\\n",
    "f_2(x_1,x_2,x_3) &= x_1^2 - x_2 + x_3 - 2 \\\\\n",
    "f_3(x_1,x_2,x_3) &= 2x_1 - x_2^2 + x_3 -1\n",
    "\\end{align}$$\n",
    "\n",
    "[Use an in-place updating function to make the solving more efficient!]"
   ]
  }
 ],
 "metadata": {
  "kernelspec": {
   "display_name": "Julia 0.5.2",
   "language": "julia",
   "name": "julia-0.5"
  },
  "language_info": {
   "file_extension": ".jl",
   "mimetype": "application/julia",
   "name": "julia",
   "version": "0.5.2"
  }
 },
 "nbformat": 4,
 "nbformat_minor": 1
}
