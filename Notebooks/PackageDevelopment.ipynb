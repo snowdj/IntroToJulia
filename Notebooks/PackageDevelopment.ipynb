{
 "cells": [
  {
   "cell_type": "markdown",
   "metadata": {},
   "source": [
    "# Package Development, Documentation, and Testing\n",
    "\n",
    "## Project\n",
    "\n",
    "Follow the tutorial in the following link to setup a Julia package Github repository, complete with documentation and CI testing, for some sample function.\n",
    "\n",
    "http://www.stochasticlifestyle.com/finalizing-julia-package-documentation-testing-coverage-publishing/\n",
    "\n",
    "https://www.youtube.com/watch?v=tx8DRc7_c9I"
   ]
  }
 ],
 "metadata": {
  "anaconda-cloud": {},
  "kernelspec": {
   "display_name": "Julia 1.0.0",
   "language": "julia",
   "name": "julia-1.0"
  },
  "language_info": {
   "file_extension": ".jl",
   "mimetype": "application/julia",
   "name": "julia",
   "version": "1.0.0"
  }
 },
 "nbformat": 4,
 "nbformat_minor": 2
}
