{
 "cells": [
  {
   "cell_type": "markdown",
   "metadata": {},
   "source": [
    "## JuliaML\n",
    "\n",
    "JuliaML is a relatively new organization centered around machine learning in Julia. While their tools are experimental at this moment, much of the near future goals are available online. Look at the following resources:\n",
    "\n",
    "- [A blog post on JuliaML's vision](http://www.breloff.com/JuliaML-and-Plots/)\n",
    "- [JuliaML's Roadmap Discussions](https://github.com/JuliaML/Roadmap.jl/issues)"
   ]
  }
 ],
 "metadata": {
  "anaconda-cloud": {},
  "kernelspec": {
   "display_name": "Julia 0.5.2",
   "language": "julia",
   "name": "julia-0.5"
  },
  "language_info": {
   "file_extension": ".jl",
   "mimetype": "application/julia",
   "name": "julia",
   "version": "0.5.2"
  }
 },
 "nbformat": 4,
 "nbformat_minor": 1
}
