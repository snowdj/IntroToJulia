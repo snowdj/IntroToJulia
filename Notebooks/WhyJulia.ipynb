{
 "cells": [
  {
   "cell_type": "markdown",
   "metadata": {
    "slideshow": {
     "slide_type": "slide"
    }
   },
   "source": [
    "# Why Does Julia Work So Well?\n",
    "\n",
    "There is an obvious reason to choose Julia:\n",
    "\n",
    ">it's faster than other scripting languages, allowing you to have the rapid development of Python/MATLAB/R while producing code that is as fast as C/Fortran\n",
    "\n",
    "Newcomers to Julia might be a little wary of that statement.\n",
    "\n",
    "1. Why not just make other scripting languages faster? If Julia can do it, why can't others? \n",
    "2. How do you interpert Julia benchmarks to confirm this? (This is surprisingly difficult for many!)\n",
    "2. That sounds like it violates the No-Free-Lunch heuristic. Is there really nothing lost?\n",
    "\n",
    "Many people believe Julia is fast **because it is Just-In-Time (JIT) compiled** (i.e. every statement is run using compiled functions which are either compiled right before they are used, or cached compilations from before). This leads to questions about what Julia gives over JIT'd implementations of Python/R (and MATLAB by default uses a JIT). These JIT compilers have been optimized for far longer than Julia, so why should we be crazy and believe that somehow Julia quickly out-optimized all of them? However, that is a complete misunderstanding of Julia. What I want show, in a very visual way, is that Julia is fast because of its design decisions. The core design decision, **type-stability through specialization via multiple-dispatch** is what allows Julia to be very easy for a compiler to make into efficient code, but also allow the code to be very concise and \"look like a scripting language\". This will lead to some very clear performance gains.\n",
    "\n",
    "But what we will see in this example is that Julia does not always act like other scripting languages. There are some \"lunches lost\" that we will have to understand. Understanding how this design decision effects the way you must code is crucial to producing efficient Julia code.\n",
    "\n",
    "To see the difference, we only need to go as far as basic math."
   ]
  },
  {
   "cell_type": "markdown",
   "metadata": {
    "slideshow": {
     "slide_type": "slide"
    }
   },
   "source": [
    "## Arithmetic in Julia\n",
    "\n",
    "In general, math in Julia looks the same as in other scripting languages. One detail to note is that the numbers are \"true numbers\", as in a `Float64` is truly the same thing as a 64-bit floating point number or a \"double\" in C. A `Vector{Float64}` is the same memory layout as an array of doubles in C, both making interop with C easy (indeed, in some sense \"Julia is a layer on top of C\") and it leads to high performance (the same is true for NumPy arrays).\n",
    "\n",
    "Some math in Julia:"
   ]
  },
  {
   "cell_type": "code",
   "execution_count": 3,
   "metadata": {
    "collapsed": false,
    "slideshow": {
     "slide_type": "fragment"
    }
   },
   "outputs": [
    {
     "name": "stdout",
     "output_type": "stream",
     "text": [
      "[4.0,1.33333,1.0,20.0]\n"
     ]
    }
   ],
   "source": [
    "a = 2+2\n",
    "b = a/3\n",
    "c = a÷3 #\\div tab completion, means integer division\n",
    "d = 4*5\n",
    "println([a;b;c;d])"
   ]
  },
  {
   "cell_type": "markdown",
   "metadata": {
    "slideshow": {
     "slide_type": "slide"
    }
   },
   "source": [
    "Note here that I showed off Julia's unicode tab completion. Julia allows for unicode characters, and these can be used by tab completing Latex-like statements. Also, multiplication by a number is allowed without the * if followed by a variable. For example, the following is allowed Julia code:"
   ]
  },
  {
   "cell_type": "code",
   "execution_count": 1,
   "metadata": {
    "collapsed": false,
    "slideshow": {
     "slide_type": "fragment"
    }
   },
   "outputs": [
    {
     "data": {
      "text/plain": [
       "-2.4492935982947064e-16"
      ]
     },
     "execution_count": 1,
     "metadata": {},
     "output_type": "execute_result"
    }
   ],
   "source": [
    "α = 0.5\n",
    "∇f(u) = α*u; ∇f(2)\n",
    "sin(2π)"
   ]
  },
  {
   "cell_type": "markdown",
   "metadata": {
    "slideshow": {
     "slide_type": "slide"
    }
   },
   "source": [
    "## Type-stability and Code Introspection\n",
    "\n",
    "Type stability is the idea that there is only 1 possible type which can be outputtted from a method. For example, the reasonable type to output from `*(::Float64,::Float64)` is a `Float64`. No matter what you give it, it will spit out a `Float64`. This right here is multiple-dispatch: the `*` operator calls a different method depending on the types that it sees. When it sees floats, it will spit out floats. Julia provides code introspection macros so that way you can see what your code actually compiles to. Thus Julia is not just a scripting language, it's a scripting language which lets you deal with assembly! Julia, like many languages, compiles to LLVM (LLVM is a type of portable assembly language)."
   ]
  },
  {
   "cell_type": "code",
   "execution_count": 9,
   "metadata": {
    "collapsed": false,
    "slideshow": {
     "slide_type": "fragment"
    }
   },
   "outputs": [
    {
     "name": "stdout",
     "output_type": "stream",
     "text": [
      "\n",
      "; Function Attrs: uwtable\n",
      "define i64 @\"jlsys_*_43301\"(i64, i64) #0 {\n",
      "top:\n",
      "  %2 = mul i64 %1, %0\n",
      "  ret i64 %2\n",
      "}\n"
     ]
    }
   ],
   "source": [
    "@code_llvm 2*5"
   ]
  },
  {
   "cell_type": "markdown",
   "metadata": {
    "slideshow": {
     "slide_type": "slide"
    }
   },
   "source": [
    "This output is saying that a floating point multiplication operation is performed and the answer is returned. We can even look at the assembly"
   ]
  },
  {
   "cell_type": "code",
   "execution_count": 6,
   "metadata": {
    "collapsed": false,
    "slideshow": {
     "slide_type": "fragment"
    }
   },
   "outputs": [
    {
     "name": "stdout",
     "output_type": "stream",
     "text": [
      "\t.text\n",
      "Filename: int.jl\n",
      "\tpushq\t%rbp\n",
      "\tmovq\t%rsp, %rbp\n",
      "Source line: 33\n",
      "\timulq\t%rsi, %rdi\n",
      "\tmovq\t%rdi, %rax\n",
      "\tpopq\t%rbp\n",
      "\tretq\n",
      "\tnopl\t(%rax)\n"
     ]
    }
   ],
   "source": [
    "@code_native 2*5"
   ]
  },
  {
   "cell_type": "markdown",
   "metadata": {
    "slideshow": {
     "slide_type": "slide"
    }
   },
   "source": [
    "This shows us that the `*` function has compiled down to exactly the same operation as what happens in C/Fortran, meaning it achieves the same performance (even though it's defined in Julia). Thus it is possible to not just get \"close\" to C, but actually get the same C code out. In what cases does this happen?\n",
    "\n",
    "The interesting thing about Julia is that, asking which cases this happens is not the right question. the right question is, in what cases does the code not compile to something as efficient as C/Fortran? The key here is type-stability. If a function is type-stable, then the compiler can know what the type will be at all points in the function and smartly optimize it to the same assembly as C/Fortran. If it is not type-stable, Julia has to add expensive \"boxing\" to ensure types are found/known before operations. \n",
    "\n",
    "#### This is the key difference between Julia and other scripting languages\n",
    "\n",
    "The upside is that Julia's functions, when type stable, are essentially C/Fortran functions. Thus `^` (exponentiation) is fast. However, `^(::Int64,::Int64)` is type-stable, so what type should it output?"
   ]
  },
  {
   "cell_type": "code",
   "execution_count": 3,
   "metadata": {
    "collapsed": false,
    "slideshow": {
     "slide_type": "slide"
    }
   },
   "outputs": [
    {
     "data": {
      "text/plain": [
       "32"
      ]
     },
     "execution_count": 3,
     "metadata": {},
     "output_type": "execute_result"
    }
   ],
   "source": [
    "2^5"
   ]
  },
  {
   "cell_type": "code",
   "execution_count": 4,
   "metadata": {
    "collapsed": false,
    "slideshow": {
     "slide_type": "fragment"
    }
   },
   "outputs": [
    {
     "ename": "LoadError",
     "evalue": "LoadError: DomainError:\nCannot raise an integer x to a negative power -n. \nMake x a float by adding a zero decimal (e.g. 2.0^-n instead of 2^-n), or write 1/x^n, float(x)^-n, or (x//1)^-n.\nwhile loading In[4], in expression starting on line 1",
     "output_type": "error",
     "traceback": [
      "LoadError: DomainError:\nCannot raise an integer x to a negative power -n. \nMake x a float by adding a zero decimal (e.g. 2.0^-n instead of 2^-n), or write 1/x^n, float(x)^-n, or (x//1)^-n.\nwhile loading In[4], in expression starting on line 1",
      "",
      " in power_by_squaring(::Int64, ::Int64) at .\\intfuncs.jl:118",
      " in ^(::Int64, ::Int64) at .\\intfuncs.jl:142"
     ]
    }
   ],
   "source": [
    "2^-5"
   ]
  },
  {
   "cell_type": "markdown",
   "metadata": {
    "slideshow": {
     "slide_type": "fragment"
    }
   },
   "source": [
    "Here we get an error. In order to guarantee to the compiler that `^` will give an Int64 back, it has to throw an error. If you do this in MATLAB, Python, or R, it will not throw an error. That is because those languages do not have their entire language built around type stability."
   ]
  },
  {
   "cell_type": "markdown",
   "metadata": {
    "slideshow": {
     "slide_type": "slide"
    }
   },
   "source": [
    "What happens when we don't have type stability? Let's inspect this code:"
   ]
  },
  {
   "cell_type": "code",
   "execution_count": 5,
   "metadata": {
    "collapsed": false,
    "slideshow": {
     "slide_type": "fragment"
    }
   },
   "outputs": [
    {
     "name": "stdout",
     "output_type": "stream",
     "text": [
      "\t.text\n",
      "Filename: intfuncs.jl\n",
      "\tpushq\t%rbp\n",
      "Source line: 142\n",
      "\tsubq\t$32, %rsp\n",
      "\tleaq\t32(%rsp), %rbp\n",
      "\tcallq\tpower_by_squaring\n",
      "\tnop\n",
      "\taddq\t$32, %rsp\n",
      "\tpopq\t%rbp\n",
      "\tretq\n",
      "\tnopw\t%cs:(%rax,%rax)\n"
     ]
    }
   ],
   "source": [
    "@code_native ^(2,5)"
   ]
  },
  {
   "cell_type": "markdown",
   "metadata": {
    "slideshow": {
     "slide_type": "slide"
    }
   },
   "source": [
    "Now let's define our own exponentiation on integers. Let's make it \"safe\" like the form seen in other scripting languages:"
   ]
  },
  {
   "cell_type": "code",
   "execution_count": 6,
   "metadata": {
    "collapsed": false,
    "slideshow": {
     "slide_type": "fragment"
    }
   },
   "outputs": [
    {
     "data": {
      "text/plain": [
       "expo (generic function with 1 method)"
      ]
     },
     "execution_count": 6,
     "metadata": {},
     "output_type": "execute_result"
    }
   ],
   "source": [
    "function expo(x,y)\n",
    "    if y>0\n",
    "        return x^y\n",
    "    else\n",
    "        x = convert(Float64,x)\n",
    "        return x^y\n",
    "    end\n",
    "end"
   ]
  },
  {
   "cell_type": "markdown",
   "metadata": {
    "slideshow": {
     "slide_type": "fragment"
    }
   },
   "source": [
    "Let's make sure it works:"
   ]
  },
  {
   "cell_type": "code",
   "execution_count": 7,
   "metadata": {
    "collapsed": false,
    "slideshow": {
     "slide_type": "fragment"
    }
   },
   "outputs": [
    {
     "name": "stdout",
     "output_type": "stream",
     "text": [
      "32\n"
     ]
    },
    {
     "data": {
      "text/plain": [
       "0.03125"
      ]
     },
     "execution_count": 7,
     "metadata": {},
     "output_type": "execute_result"
    }
   ],
   "source": [
    "println(expo(2,5))\n",
    "expo(2,-5)"
   ]
  },
  {
   "cell_type": "markdown",
   "metadata": {
    "slideshow": {
     "slide_type": "slide"
    }
   },
   "source": [
    "\n",
    "What happens if we inspect this code?"
   ]
  },
  {
   "cell_type": "code",
   "execution_count": 8,
   "metadata": {
    "collapsed": false,
    "slideshow": {
     "slide_type": "fragment"
    }
   },
   "outputs": [
    {
     "name": "stdout",
     "output_type": "stream",
     "text": [
      "\t.text\n",
      "Filename: In[6]\n",
      "\tpushq\t%rbp\n",
      "\tmovq\t%rsp, %rbp\n",
      "\tpushq\t%r14\n",
      "\tpushq\t%rsi\n",
      "\tpushq\t%rdi\n",
      "\tpushq\t%rbx\n",
      "\tsubq\t$96, %rsp\n",
      "\tmovaps\t%xmm6, -48(%rbp)\n",
      "\tmovq\t%rdx, %rdi\n",
      "\tmovq\t%rcx, %rbx\n",
      "\tmovabsq\t$jl_get_ptls_states, %rax\n",
      "\tcallq\t*%rax\n",
      "\tmovq\t%rax, %rsi\n",
      "\txorps\t%xmm0, %xmm0\n",
      "\tmovups\t%xmm0, -64(%rbp)\n",
      "\tmovups\t%xmm0, -80(%rbp)\n",
      "\tmovq\t$8, -96(%rbp)\n",
      "\tmovq\t(%rsi), %rax\n",
      "\tmovq\t%rax, -88(%rbp)\n",
      "\tleaq\t-96(%rbp), %rax\n",
      "\tmovq\t%rax, (%rsi)\n",
      "Source line: 2\n",
      "\tmovabsq\t$jl_box_int64, %r14\n",
      "\tmovq\t%rbx, %rcx\n",
      "\tcallq\t*%r14\n",
      "\tmovq\t%rax, -80(%rbp)\n",
      "\ttestq\t%rdi, %rdi\n",
      "\tjle\tL146\n",
      "Source line: 3\n",
      "\tmovq\t%rax, -72(%rbp)\n",
      "\tmovq\t(%rax), %rcx\n",
      "\tmovabsq\t$power_by_squaring, %rax\n",
      "\tmovq\t%rdi, %rdx\n",
      "\tcallq\t*%rax\n",
      "\tmovq\t%rax, %rcx\n",
      "\tcallq\t*%r14\n",
      "\tmovq\t-88(%rbp), %rcx\n",
      "\tmovq\t%rcx, (%rsi)\n",
      "\tmovaps\t-48(%rbp), %xmm6\n",
      "\taddq\t$96, %rsp\n",
      "\tpopq\t%rbx\n",
      "\tpopq\t%rdi\n",
      "\tpopq\t%rsi\n",
      "\tpopq\t%r14\n",
      "\tpopq\t%rbp\n",
      "\tretq\n",
      "L146:\n",
      "\tmovl\t$2148805808, %ebx       # imm = 0x80142CB0\n",
      "Source line: 5\n",
      "\tmovq\t%rax, -64(%rbp)\n",
      "\tmovq\t(%rax), %rax\n",
      "Source line: 6\n",
      "\tcvtsi2sdq\t%rax, %xmm6\n",
      "Source line: 5\n",
      "\tmovabsq\t$jl_gc_pool_alloc, %r14\n",
      "\tmovl\t$1488, %edx             # imm = 0x5D0\n",
      "\tmovl\t$16, %r8d\n",
      "\tmovq\t%rsi, %rcx\n",
      "\tcallq\t*%r14\n",
      "\tmovq\t%rbx, -8(%rax)\n",
      "\tmovsd\t%xmm6, (%rax)\n",
      "\tmovq\t%rax, -80(%rbp)\n",
      "Source line: 6\n",
      "\tmovq\t%rax, -56(%rbp)\n",
      "\tmovslq\t%edi, %rax\n",
      "\tcmpq\t%rdi, %rax\n",
      "\tjne\tL283\n",
      "\tmovabsq\t$_powidf2, %rax\n",
      "\tmovapd\t%xmm6, %xmm0\n",
      "\tmovl\t%edi, %edx\n",
      "\tcallq\t*%rax\n",
      "\tmovapd\t%xmm0, %xmm6\n",
      "\tmovl\t$1488, %edx             # imm = 0x5D0\n",
      "\tmovl\t$16, %r8d\n",
      "\tmovq\t%rsi, %rcx\n",
      "\tcallq\t*%r14\n",
      "\tmovq\t%rbx, -8(%rax)\n",
      "\tmovsd\t%xmm6, (%rax)\n",
      "\tmovq\t-88(%rbp), %rcx\n",
      "\tmovq\t%rcx, (%rsi)\n",
      "\tmovaps\t-48(%rbp), %xmm6\n",
      "\taddq\t$96, %rsp\n",
      "\tpopq\t%rbx\n",
      "\tpopq\t%rdi\n",
      "\tpopq\t%rsi\n",
      "\tpopq\t%r14\n",
      "\tpopq\t%rbp\n",
      "\tretq\n",
      "L283:\n",
      "\taddq\t$45616, %rbx            # imm = 0xB230\n",
      "\tmovabsq\t$jl_throw, %rax\n",
      "\tmovq\t%rbx, %rcx\n",
      "\tcallq\t*%rax\n",
      "\tud2\n",
      "\tnopw\t%cs:(%rax,%rax)\n"
     ]
    }
   ],
   "source": [
    "@code_native expo(2,5)"
   ]
  },
  {
   "cell_type": "markdown",
   "metadata": {
    "slideshow": {
     "slide_type": "slide"
    }
   },
   "source": [
    "That's a very visual demonstration on why Julia achieves such higher performance than other scripting languages."
   ]
  },
  {
   "cell_type": "markdown",
   "metadata": {
    "slideshow": {
     "slide_type": "slide"
    }
   },
   "source": [
    "# Core Idea: Multiple Dispatch + Type Stability => Speed + Readability\n",
    "\n",
    "Type stability is one crucial feature which separates Julia apart from other scripting languages.  In fact, the core idea of Julia is the following statement:\n",
    "\n",
    "#### Multiple dispatch allows for a language to dispatch function calls onto type-stable functions.\n",
    "\n",
    "This is what Julia is all about, so let's take some time to dig into it.If you have type stability inside of a function (meaning, any function call within the function is also type-stable), then the compiler can know the types of the variables at every step. Therefore it can compile the function with the full amount of optimizations since at this point the code is essentially the same as C/Fortran code.  Multiple-dispatch works into this story because it means that `*` can be a type-stable function: it just means different things for different inputs. But if the compiler can know the types of `a` and `b` before calling `*`, then it knows which `*` method to use, and therefore it knows the output type of `c=a*b`. Thus it can propogate the type information all the way down, knowing all of the types along the way, allowing for full optimiziations. Multiple dispatch allows `*` to mean the \"right thing\" every time you use it, almost magically allowing this optimization.\n",
    "\n",
    "There are a few things we learn from this. For one, in order to achieve this level of optimization, you must have type-stability. This is not featured in the standard libraries of most languages, and was choice that was made to make the experience a little easier for users. Secondly, multiple dispatch was required to be able to specialize the functions for types which allows for the scripting language syntax to be \"more explicit than meets the eye\". Lastly, a robust type system is required. In order to build the type-unstable exponentiation (which may be needed) we needed functionalities like convert. Thus the language must be designed to be type-stable with multiple dispatch and centered around a robust type system in order to achieve this raw performance while maintaining the syntax/ease-of-use of a scripting language. You can put a JIT on Python, but to really make it Julia, you would have to design it to be Julia."
   ]
  },
  {
   "cell_type": "markdown",
   "metadata": {
    "slideshow": {
     "slide_type": "slide"
    }
   },
   "source": [
    "## The Julia Benchmarks\n",
    "\n",
    "The Julia benchmarks, featured on [the Julia website](http://julialang.org/), test components of the programming language for speed. **This doesn't mean it's testing the fastest implemention**. That is where a major misconception occurs. You'll have an R programmer look at the R code for the Fibonacci calculator and say \"wow, that's terrible R code. You're not supposed to use recursion in R. Of course it's slow\". However, the Fibonacci problem is designed to test recursion, not the fastest implementation to the the ith Fibonacci number. The other problems are the same way: testing basic components of the langauge to see how fast they are.\n",
    "\n",
    "Julia is built up using multiple-dispatch on type-stable functions. As a result, even the earliest versions of Julia were easy for compilers to optimize to C/Fortran efficiency. It's clear that in almost every case Julia is close to C. Where it is not close to C actually has a few details. The first is the Fibonacci problem where Julia is 2.11x from C. This is because it is a test of recursion, and Julia does not fully optimize recursion (but still does very well on this problem!). The optimization which is used to receive the fastest times for this type of problem is known as Tail-Call Optimization. Julia can at any time add this optimization, though [there are reasons](https://github.com/JuliaLang/julia/issues/4964) why [they choose not to](https://groups.google.com/forum/?fromgroups=#!searchin/julia-users/tail$20call/julia-users/qHRDj80rIvA/T3AylpjsASEJ). The main reason is: any case where tail-call optimization is possible, a loop can also be used. But a loop is also more robust for optimizations (there are many recursive calls which will fail to tail-call optimize) and thus they want to just recommend using loops instead of using fragile TCO. \n",
    "\n",
    "The other cases where Julia doesn't do as well are the `rand_mat_stat` and the `parse_int` tests. However, this is largely due to a feature known as bounds checking. In most scripting languages, you will receive an error if you try to index an array outside of its bounds. Julia will do this by default:"
   ]
  },
  {
   "cell_type": "code",
   "execution_count": 28,
   "metadata": {
    "collapsed": false,
    "slideshow": {
     "slide_type": "slide"
    }
   },
   "outputs": [
    {
     "ename": "LoadError",
     "evalue": "LoadError: BoundsError: attempt to access 3-element Array{Float64,1} at index [4]\nwhile loading In[28], in expression starting on line 7",
     "output_type": "error",
     "traceback": [
      "LoadError: BoundsError: attempt to access 3-element Array{Float64,1} at index [4]\nwhile loading In[28], in expression starting on line 7",
      "",
      " in test1() at ./In[28]:4"
     ]
    }
   ],
   "source": [
    "function test1()\n",
    "    a = zeros(3)\n",
    "    for i=1:4\n",
    "        a[i] = i\n",
    "    end\n",
    "end\n",
    "test1()"
   ]
  },
  {
   "cell_type": "markdown",
   "metadata": {
    "slideshow": {
     "slide_type": "fragment"
    }
   },
   "source": [
    "However, Julia allows you to turn this off using the `@inbounds` macro:"
   ]
  },
  {
   "cell_type": "code",
   "execution_count": 10,
   "metadata": {
    "collapsed": false,
    "slideshow": {
     "slide_type": "fragment"
    }
   },
   "outputs": [],
   "source": [
    "function test2()\n",
    "    a = zeros(3)\n",
    "    @inbounds for i=1:4\n",
    "        a[i] = i\n",
    "    end\n",
    "end\n",
    "test2()"
   ]
  },
  {
   "cell_type": "markdown",
   "metadata": {
    "slideshow": {
     "slide_type": "slide"
    }
   },
   "source": [
    "This gives you the same unsafe behavior as C/Fortran, but also the same speed (indeed, if you add these to the benchmarks they will speed up close to C). This is another interesting feature of Julia: it lets you **by default have the safety of a scripting language, but turn off these features when necessary (/after testing and debugging) to get full performance.**"
   ]
  },
  {
   "cell_type": "markdown",
   "metadata": {
    "slideshow": {
     "slide_type": "slide"
    }
   },
   "source": [
    "# Small Expansion of the Idea: Strict Typing"
   ]
  },
  {
   "cell_type": "markdown",
   "metadata": {
    "slideshow": {
     "slide_type": "fragment"
    }
   },
   "source": [
    "Type-stability is not the only necessity. You also need strict typing. In Python you can put anything into an array. In Julia, you can only put types of `T` into a `Vector{T}`. To give generality, Julia offers various non-strict forms of types. The biggest example is `Any`. Anything satisfies `T:<Any` (hence the name). Therefore, if you need it, you can create a `Vector{Any}`. For example: "
   ]
  },
  {
   "cell_type": "code",
   "execution_count": 3,
   "metadata": {
    "collapsed": false,
    "slideshow": {
     "slide_type": "fragment"
    }
   },
   "outputs": [
    {
     "data": {
      "text/plain": [
       "3-element Array{Any,1}:\n",
       " 1.0       \n",
       "  \"hi!\"    \n",
       "  :Symbolic"
      ]
     },
     "execution_count": 3,
     "metadata": {},
     "output_type": "execute_result"
    }
   ],
   "source": [
    "a = Vector{Any}(3)\n",
    "a[1] = 1.0\n",
    "a[2] = \"hi!\"\n",
    "a[3] = :Symbolic\n",
    "a"
   ]
  },
  {
   "cell_type": "markdown",
   "metadata": {
    "collapsed": true,
    "slideshow": {
     "slide_type": "slide"
    }
   },
   "source": [
    "A less extreme form of an abstract type is a Union type, which is just what it sounds like. For example:"
   ]
  },
  {
   "cell_type": "code",
   "execution_count": 2,
   "metadata": {
    "collapsed": false,
    "slideshow": {
     "slide_type": "fragment"
    }
   },
   "outputs": [
    {
     "data": {
      "text/plain": [
       "3-element Array{Union{Float64,Int64},1}:\n",
       " 1.0 \n",
       " 3   \n",
       " 0.25"
      ]
     },
     "execution_count": 2,
     "metadata": {},
     "output_type": "execute_result"
    }
   ],
   "source": [
    "a = Vector{Union{Float64,Int}}(3)\n",
    "a[1] = 1.0\n",
    "a[2] = 3\n",
    "a[3] = 1/4\n",
    "a"
   ]
  },
  {
   "cell_type": "markdown",
   "metadata": {
    "slideshow": {
     "slide_type": "fragment"
    }
   },
   "source": [
    "This will only accept floating point numbers and integers. However, it is still an abstract type. A function which is called on an abstract type cannot know the type of any element (since, in this example, any element can be either a float or an integer). Thus the optimization that was achieved by multiple-dispatch, knowing the type each step of the way, is no longer present. Therefore the optimizations are gone and Julia will slow down to the speed of other scripting languages. \n",
    "\n",
    "This leads to the performance principle: use strict typing whenever possible. There are other advantages: a strictly typed `Vector{Float64}` is actually byte-compatible with C/Fortran, and so it can be used directly by C/Fortran programs without conversion."
   ]
  },
  {
   "cell_type": "markdown",
   "metadata": {
    "slideshow": {
     "slide_type": "slide"
    }
   },
   "source": [
    "# Lunch Money\n",
    "\n",
    "It's clear that Julia made clever design decisions in order to achieve its performance goals while still being a scripting language. However, what exactly is lost? Next I will show you a few pecularities of Julia that come from this design decision, and the tools Julia gives you to handle them."
   ]
  },
  {
   "cell_type": "markdown",
   "metadata": {
    "slideshow": {
     "slide_type": "slide"
    }
   },
   "source": [
    "## Performance as Optional\n",
    "\n",
    "One thing I already showed is that Julia gives many ways to achieve high performance (like `@inbounds`), but they don't have to be used. You can write type-unstable functions. It will be as slow as MATLAB/R/Python, but you can do it. In places where you don't need the best performance, it's nice to have this as an option."
   ]
  },
  {
   "cell_type": "markdown",
   "metadata": {
    "slideshow": {
     "slide_type": "slide"
    }
   },
   "source": [
    "## Checking for Type-Stability\n",
    "\n",
    "Since type-stability is so essential, Julia gives you tools to check that your functions are type stable. The most important is the `@code_warntype` macro. Let's use it to check a type-stable function:"
   ]
  },
  {
   "cell_type": "code",
   "execution_count": 4,
   "metadata": {
    "collapsed": false,
    "slideshow": {
     "slide_type": "fragment"
    }
   },
   "outputs": [
    {
     "name": "stdout",
     "output_type": "stream",
     "text": [
      "Variables:\n",
      "  #self#::Base.#^\n",
      "  x::Int64\n",
      "  p::Int64\n",
      "\n",
      "Body:\n",
      "  begin \n",
      "      return $(Expr(:invoke, LambdaInfo for power_by_squaring(::Int64, ::Int64), :(Base.power_by_squaring), :(x), :(p)))\n",
      "  end::Int64\n"
     ]
    }
   ],
   "source": [
    "@code_warntype 2^5"
   ]
  },
  {
   "cell_type": "markdown",
   "metadata": {
    "collapsed": true,
    "slideshow": {
     "slide_type": "slide"
    }
   },
   "source": [
    "Notice that it shows all of the variables in the function as strictly typed. What about in our `expo`?"
   ]
  },
  {
   "cell_type": "code",
   "execution_count": 9,
   "metadata": {
    "collapsed": false,
    "slideshow": {
     "slide_type": "fragment"
    }
   },
   "outputs": [
    {
     "name": "stdout",
     "output_type": "stream",
     "text": [
      "Variables:\n",
      "  #self#::#expo\n",
      "  x@_2::Int64\n",
      "  y::Int64\n",
      "  x@_4::ANY\n",
      "\n",
      "Body:\n",
      "  begin \n",
      "      x@_4::ANY = x@_2::Int64\n",
      "      unless (Base.slt_int)(0,y::Int64)::Bool goto 5 # line 3:\n",
      "      return $(Expr(:invoke, LambdaInfo for power_by_squaring(::Int64, ::Int64), :(Base.power_by_squaring), :(x@_4::Int64), :(y)))\n",
      "      5:  # line 5:\n",
      "      x@_4::ANY = (Base.box)(Float64,(Base.sitofp)(Float64,x@_4::Int64)) # line 6:\n",
      "      return (Base.Math.box)(Base.Math.Float64,(Base.Math.powi_llvm)(x@_4::Float64,(Base.box)(Int32,(Base.checked_trunc_sint)(Int32,y::Int64))))::Float64\n",
      "  end::UNION{FLOAT64,INT64}\n"
     ]
    }
   ],
   "source": [
    "@code_warntype expo(2,5)"
   ]
  },
  {
   "cell_type": "markdown",
   "metadata": {
    "slideshow": {
     "slide_type": "fragment"
    }
   },
   "source": [
    "Notice that it has to make a temporary variable `x@_4` which is translates our int at the beginning of the function, and then do type-checking in order to find the right function, and then its output type is the non-strict `Union{Float64,Int64}`. The quick way to read this is to see that `x@_4::ANY` has a non-strict type, indicating a type-instability. This gives you a tool to know how to optimize."
   ]
  },
  {
   "cell_type": "markdown",
   "metadata": {
    "slideshow": {
     "slide_type": "slide"
    }
   },
   "source": [
    "## Dealing With Necessary Type-Instabilities\n",
    "\n",
    "For one, I already showed that some functions will error while in other scripting languages they will \"read your mind\". In many cases you will realize that you could've just used a different type from the start and achieved type-stability (why not just do `2.0^-5`?). However, there are some cases where you won't find an appropriate type. This can be easily fixed by conversions, though you then lose type stability. Instead you have to think about your design and cleverly use multiple dispatch.\n",
    "\n",
    "So let's say that we have `a` as a `Vector{Union{Float64,Int}}`. We may run into a case where we have to use `a`. Assume that on each element of `a` we have to perform a lot of operations. In this case, knowing the type of a given element will lead to massive performance gains, but since it's in a `Vector{Union{Float64,Int}}`, they will not be known in a function like:"
   ]
  },
  {
   "cell_type": "code",
   "execution_count": 10,
   "metadata": {
    "collapsed": false,
    "slideshow": {
     "slide_type": "fragment"
    }
   },
   "outputs": [
    {
     "data": {
      "text/plain": [
       "foo (generic function with 1 method)"
      ]
     },
     "execution_count": 10,
     "metadata": {},
     "output_type": "execute_result"
    }
   ],
   "source": [
    "function foo{T,N}(array::Array{T,N})\n",
    "  for i in eachindex(array)\n",
    "    val = array[i]\n",
    "    # do algorithm X on val\n",
    "  end\n",
    "end"
   ]
  },
  {
   "cell_type": "markdown",
   "metadata": {
    "slideshow": {
     "slide_type": "slide"
    }
   },
   "source": [
    "However, we can fix this with multiple dispatch. We can write a dispatch on elements:"
   ]
  },
  {
   "cell_type": "code",
   "execution_count": 11,
   "metadata": {
    "collapsed": false,
    "slideshow": {
     "slide_type": "fragment"
    }
   },
   "outputs": [
    {
     "data": {
      "text/plain": [
       "inner_foo (generic function with 1 method)"
      ]
     },
     "execution_count": 11,
     "metadata": {},
     "output_type": "execute_result"
    }
   ],
   "source": [
    "function inner_foo{T<:Number}(val::T)\n",
    "  # Do algorithm X on val\n",
    "end"
   ]
  },
  {
   "cell_type": "markdown",
   "metadata": {
    "slideshow": {
     "slide_type": "fragment"
    }
   },
   "source": [
    "and instead define foo as:"
   ]
  },
  {
   "cell_type": "code",
   "execution_count": 12,
   "metadata": {
    "collapsed": false,
    "slideshow": {
     "slide_type": "fragment"
    }
   },
   "outputs": [
    {
     "data": {
      "text/plain": [
       "foo2 (generic function with 1 method)"
      ]
     },
     "execution_count": 12,
     "metadata": {},
     "output_type": "execute_result"
    }
   ],
   "source": [
    "function foo2{T,N}(array::Array{T,N})\n",
    "  for i in eachindex(array)\n",
    "    inner_foo(array[i])\n",
    "  end\n",
    "end"
   ]
  },
  {
   "cell_type": "markdown",
   "metadata": {
    "slideshow": {
     "slide_type": "slide"
    }
   },
   "source": [
    "Since types are checked for dispatch, the function `inner_foo` is strictly typed. Thus if `inner_foo` is type-stable, then we can achieve high performance by allowing it to specialize within `inner_foo`. This leads to a general design principle that, if you're dealing with odd/non-strict types, you can use an outer function to handle the type logic while using an inner function for all of the hard calculations and achieve close to optimal performance while still having the generic abilities of a scripting language."
   ]
  },
  {
   "cell_type": "markdown",
   "metadata": {
    "slideshow": {
     "slide_type": "slide"
    }
   },
   "source": [
    "## REPL \"Globals\" Have Bad Performance"
   ]
  },
  {
   "cell_type": "markdown",
   "metadata": {
    "slideshow": {
     "slide_type": "fragment"
    }
   },
   "source": [
    "Globals in Julia have awful performance. Not using globals is [the first fact in the Performance Tips](http://docs.julialang.org/en/release-0.5/manual/performance-tips/). However, what newcommers don't realize is that the REPL is the global scope. To see why, recall that Julia has nested scopes. For example, if you have a function inside of a function, then the inner function has all of the variables of the outer function."
   ]
  },
  {
   "cell_type": "code",
   "execution_count": 13,
   "metadata": {
    "collapsed": false,
    "slideshow": {
     "slide_type": "fragment"
    }
   },
   "outputs": [
    {
     "data": {
      "text/plain": [
       "test (generic function with 1 method)"
      ]
     },
     "execution_count": 13,
     "metadata": {},
     "output_type": "execute_result"
    }
   ],
   "source": [
    "function test(x)\n",
    "    y = x+2\n",
    "    function test2()\n",
    "        y+3\n",
    "    end\n",
    "    test2()\n",
    "end"
   ]
  },
  {
   "cell_type": "markdown",
   "metadata": {
    "slideshow": {
     "slide_type": "slide"
    }
   },
   "source": [
    "In `test2`, `y` is known because it is defined in `test`. This will all work to give something performant if `y` is type-stable since `test2` could then assume that `y` is always an integer. But now look at what happens at the highest scope (and thus effectively the global scope):"
   ]
  },
  {
   "cell_type": "code",
   "execution_count": 11,
   "metadata": {
    "collapsed": false,
    "slideshow": {
     "slide_type": "fragment"
    }
   },
   "outputs": [
    {
     "data": {
      "text/plain": [
       "3.0"
      ]
     },
     "execution_count": 11,
     "metadata": {},
     "output_type": "execute_result"
    }
   ],
   "source": [
    "a = 3\n",
    "function badidea()\n",
    "    a + 2\n",
    "end\n",
    "a = 3.0"
   ]
  },
  {
   "cell_type": "markdown",
   "metadata": {
    "slideshow": {
     "slide_type": "slide"
    }
   },
   "source": [
    "Because no dispatch is used to specialize `badidea`, and we can change the type of `a` at any time, and therefore `badidea` cannot add optimizations when compiling since the type of `a` is unknown during compile time. However, Julia allows us to specify variables as constant:"
   ]
  },
  {
   "cell_type": "code",
   "execution_count": 1,
   "metadata": {
    "collapsed": false,
    "slideshow": {
     "slide_type": "fragment"
    }
   },
   "outputs": [
    {
     "name": "stderr",
     "output_type": "stream",
     "text": [
      "WARNING: redefining constant a\n"
     ]
    },
    {
     "ename": "LoadError",
     "evalue": "LoadError: invalid redefinition of constant a\nwhile loading In[1], in expression starting on line 6",
     "output_type": "error",
     "traceback": [
      "LoadError: invalid redefinition of constant a\nwhile loading In[1], in expression starting on line 6",
      ""
     ]
    }
   ],
   "source": [
    "const a = 3\n",
    "function badidea()\n",
    "    a + 2\n",
    "end\n",
    "a = 4 # Works\n",
    "a = 3.0 # Fails"
   ]
  },
  {
   "cell_type": "markdown",
   "metadata": {
    "slideshow": {
     "slide_type": "slide"
    }
   },
   "source": [
    "Because `const` is about types, it acts slightly differently than one would expect. `const` is a declaration that the type of `a` will be constant, not the value. Therefore we can change `a` from 3 to 4 since it goes from an `Int` to an `Int`. However, trying to change `a` to `3.0` fails because it cannot change to a Float64.\n",
    "\n",
    "This will show up when trying to do benchmarks. The most common human error to see is for newcomers to benchmark Julia like:"
   ]
  },
  {
   "cell_type": "code",
   "execution_count": 24,
   "metadata": {
    "collapsed": false,
    "slideshow": {
     "slide_type": "fragment"
    }
   },
   "outputs": [
    {
     "name": "stdout",
     "output_type": "stream",
     "text": [
      "  0.000005 seconds (4 allocations: 64 bytes)\n"
     ]
    }
   ],
   "source": [
    "a = 3.0\n",
    "@time for i = 1:4\n",
    "    a += i\n",
    "end"
   ]
  },
  {
   "cell_type": "markdown",
   "metadata": {
    "slideshow": {
     "slide_type": "fragment"
    }
   },
   "source": [
    "However, if we put this in a function, it will optimize (in fact, it will optimize away the loop and stick in the answer)"
   ]
  },
  {
   "cell_type": "code",
   "execution_count": 2,
   "metadata": {
    "collapsed": false,
    "slideshow": {
     "slide_type": "fragment"
    }
   },
   "outputs": [
    {
     "name": "stdout",
     "output_type": "stream",
     "text": [
      "  0.000000 seconds\n",
      "  0.000000 seconds\n"
     ]
    }
   ],
   "source": [
    "function timetest()\n",
    "    a = 3.0\n",
    "    @time for i = 1:4\n",
    "        a += i\n",
    "    end\n",
    "end\n",
    "timetest() # First time compiles\n",
    "timetest()"
   ]
  },
  {
   "cell_type": "markdown",
   "metadata": {
    "slideshow": {
     "slide_type": "slide"
    }
   },
   "source": [
    "This is a very easy problem to fall for: don't benchmark or time things in the REPL's global scope. Always wrap things in a function or declare them as const. There is a developer thread [to make the global performance less awful](https://github.com/JuliaLang/julia/issues/8870) but, given the information from this notebook, you can already see that it will never be \"not awful\", it will just be \"less awful\"."
   ]
  },
  {
   "cell_type": "markdown",
   "metadata": {
    "slideshow": {
     "slide_type": "slide"
    }
   },
   "source": [
    "# Conclusion\n",
    "\n",
    "Julia is fast by design. Type stability and multiple dispatch is necessary to do the specialization that is involved in Julia's compilation to make it work so well. The robust type system is required to make working with types at such a fine level in order to effectively achieve type-stability whenever possible, and manage optimizations when it's not totally possible.\n",
    "\n",
    "\n",
    "## Discussion / Project\n",
    "\n",
    "Here's a good learning project: how would you design a new type `EasyFloats` to build MATLAB/Python/R arithmetic into Julia? How would you designed \"arrays with NAs\" to mimic R? Time the results and see what the difference from optimal is."
   ]
  }
 ],
 "metadata": {
  "celltoolbar": "Slideshow",
  "kernelspec": {
   "display_name": "Julia 0.5.0",
   "language": "julia",
   "name": "julia-0.5"
  },
  "language_info": {
   "file_extension": ".jl",
   "mimetype": "application/julia",
   "name": "julia",
   "version": "0.5.0"
  }
 },
 "nbformat": 4,
 "nbformat_minor": 0
}
